{
  "nbformat": 4,
  "nbformat_minor": 0,
  "metadata": {
    "kernelspec": {
      "display_name": "Python 3",
      "language": "python",
      "name": "python3"
    },
    "language_info": {
      "codemirror_mode": {
        "name": "ipython",
        "version": 3
      },
      "file_extension": ".py",
      "mimetype": "text/x-python",
      "name": "python",
      "nbconvert_exporter": "python",
      "pygments_lexer": "ipython3",
      "version": "3.6.6"
    },
    "nav_menu": {},
    "toc": {
      "navigate_menu": true,
      "number_sections": true,
      "sideBar": true,
      "threshold": 6,
      "toc_cell": false,
      "toc_section_display": "block",
      "toc_window_display": false
    },
    "colab": {
      "name": "MINIST-ViniciusRigon.ipynb",
      "provenance": [],
      "collapsed_sections": [],
      "toc_visible": true
    }
  },
  "cells": [
    {
      "cell_type": "markdown",
      "metadata": {
        "id": "4hHU7cjTZL-_"
      },
      "source": [
        "# Configurações iniciais\r\n",
        "\r\n"
      ]
    },
    {
      "cell_type": "markdown",
      "metadata": {
        "id": "4TOFvglyZL_A"
      },
      "source": [
        "\r\n",
        "Inicialmente, vamos importar os módulos comuns e configurar o matplotlib para funcionar mais elegantemente, além de configurar um módulo para salvar figuras."
      ]
    },
    {
      "cell_type": "code",
      "metadata": {
        "id": "-ZGRnOQ5ZL_B"
      },
      "source": [
        "# Common imports\n",
        "import numpy as np\n",
        "import pandas as pd \n",
        "import os\n",
        "\n",
        "\n",
        "# Para ajudar na reproducibilidade\n",
        "# Aqui a seed é 42, mas não há nada de especial nisso\n",
        "np.random.seed(42)\n",
        "\n",
        "# To plot pretty figures\n",
        "%matplotlib inline\n",
        "import matplotlib as mpl\n",
        "import matplotlib.pyplot as plt\n",
        "mpl.rc('axes', labelsize=14)\n",
        "mpl.rc('xtick', labelsize=12)\n",
        "mpl.rc('ytick', labelsize=12)\n",
        "\n",
        "def save_fig(fig_id, tight_layout=True):\n",
        "    print(\"Saving figure\", fig_id)\n",
        "    if tight_layout:\n",
        "        plt.tight_layout()\n",
        "    plt.savefig(fig_id, format='png', dpi=600)"
      ],
      "execution_count": 35,
      "outputs": []
    },
    {
      "cell_type": "markdown",
      "metadata": {
        "id": "XKM38I6yZL_C"
      },
      "source": [
        "# MNIST"
      ]
    },
    {
      "cell_type": "markdown",
      "metadata": {
        "id": "XMVcnYnFYcmx"
      },
      "source": [
        "Vamos agora importar o [MNIST dataset](https://en.wikipedia.org/wiki/MNIST_database), que um largo conjunto de dados que contém anotações à mão de dígitos, de 0 à 9. \r\n",
        "\r\n",
        "É um dataset muito utilizado para aprendizado, assim como referência quando se pretende testar novos algoritmos de classificação.\r\n",
        "\r\n"
      ]
    },
    {
      "cell_type": "markdown",
      "metadata": {
        "id": "Zz4ZuB2AZCV2"
      },
      "source": [
        " Vamos precisar importar o conjunto de dados. O sklearn já vem com uma rotina para buscar alguns datasets públicos, como é caso do MNIST. Para isso vamos utilizar 'fetch_openml()' para buscar o nosso conjunto de dados.\r\n",
        "\r\n",
        "<font color= '#5A35B6'>**Atenção:**</font>  A função `fetch_mldata()` está obsoleta desde o Scikit-Learn 0.20. Devemos, ao invés disso, utilizar o `fetch_openml()`. Observa que seguindo as boas práticas de ML, a nova função já retorna o MNIST de forma não ordenada, enquanto que `fetch_mldata()` retorna o conjunto de dados ordenados pelo rótulo. Poderá então haver diferenças dependendo da versão que você utilizar. Recomenda-se que você atualize a sua versão do sklearn.\r\n"
      ]
    },
    {
      "cell_type": "code",
      "metadata": {
        "id": "jUuGpUJFbxnV"
      },
      "source": [
        "#Importando dataset\r\n",
        "from sklearn.datasets import fetch_openml\r\n",
        "mnist = fetch_openml('mnist_784', version=1, cache=True)\r\n",
        "mnist.target = mnist.target.astype(np.int8) # fetch_openml() returns targets as strings"
      ],
      "execution_count": null,
      "outputs": []
    },
    {
      "cell_type": "markdown",
      "metadata": {
        "id": "-6iYdbpycU0U"
      },
      "source": [
        "Vejamos o tipo dos dados que temos a nossa disposição"
      ]
    },
    {
      "cell_type": "code",
      "metadata": {
        "colab": {
          "base_uri": "https://localhost:8080/"
        },
        "id": "eDLg5otOcJ6K",
        "outputId": "b757991c-80ec-4498-9043-ff637af456b8"
      },
      "source": [
        "type(mnist)"
      ],
      "execution_count": null,
      "outputs": [
        {
          "output_type": "execute_result",
          "data": {
            "text/plain": [
              "sklearn.utils.Bunch"
            ]
          },
          "metadata": {
            "tags": []
          },
          "execution_count": 4
        }
      ]
    },
    {
      "cell_type": "markdown",
      "metadata": {
        "id": "OhwwkcB5cbj1"
      },
      "source": [
        "Esse tipo de dados é uma espécie de container implementada no Sklearn. Os elementos devem ser acessado através de \"chaves\" que dão acesso ao conjunto de dados. Para acessar as features, usamos a chave \"data\", ao passo que para acessar os rótulos usamos \"target\":"
      ]
    },
    {
      "cell_type": "code",
      "metadata": {
        "colab": {
          "base_uri": "https://localhost:8080/"
        },
        "id": "lCc7FleEb-5j",
        "outputId": "4b9c2d32-7f9c-43c5-e06e-001f390ff557"
      },
      "source": [
        "mnist[\"data\"], mnist[\"target\"]"
      ],
      "execution_count": null,
      "outputs": [
        {
          "output_type": "execute_result",
          "data": {
            "text/plain": [
              "(array([[0., 0., 0., ..., 0., 0., 0.],\n",
              "        [0., 0., 0., ..., 0., 0., 0.],\n",
              "        [0., 0., 0., ..., 0., 0., 0.],\n",
              "        ...,\n",
              "        [0., 0., 0., ..., 0., 0., 0.],\n",
              "        [0., 0., 0., ..., 0., 0., 0.],\n",
              "        [0., 0., 0., ..., 0., 0., 0.]]),\n",
              " array([5, 0, 4, ..., 4, 5, 6], dtype=int8))"
            ]
          },
          "metadata": {
            "tags": []
          },
          "execution_count": 5
        }
      ]
    },
    {
      "cell_type": "markdown",
      "metadata": {
        "id": "ELPnpBW_dFud"
      },
      "source": [
        "Você poderia também acessar como se fosse um atributo do objeto mnist:"
      ]
    },
    {
      "cell_type": "code",
      "metadata": {
        "colab": {
          "base_uri": "https://localhost:8080/"
        },
        "id": "_havl2iIdAkg",
        "outputId": "44d432f7-3fdf-4931-a671-c6ed933ccdc2"
      },
      "source": [
        "mnist.data"
      ],
      "execution_count": null,
      "outputs": [
        {
          "output_type": "execute_result",
          "data": {
            "text/plain": [
              "array([[0., 0., 0., ..., 0., 0., 0.],\n",
              "       [0., 0., 0., ..., 0., 0., 0.],\n",
              "       [0., 0., 0., ..., 0., 0., 0.],\n",
              "       ...,\n",
              "       [0., 0., 0., ..., 0., 0., 0.],\n",
              "       [0., 0., 0., ..., 0., 0., 0.],\n",
              "       [0., 0., 0., ..., 0., 0., 0.]])"
            ]
          },
          "metadata": {
            "tags": []
          },
          "execution_count": 6
        }
      ]
    },
    {
      "cell_type": "markdown",
      "metadata": {
        "id": "iOyFcyoLdLjw"
      },
      "source": [
        "Vejamos as dimensões da matriz \"mnist.data\""
      ]
    },
    {
      "cell_type": "code",
      "metadata": {
        "id": "cngv8cTDZL_H",
        "colab": {
          "base_uri": "https://localhost:8080/"
        },
        "outputId": "a83cf504-5bf1-4ed4-d143-ae0f9c588fd8"
      },
      "source": [
        "mnist.data.shape"
      ],
      "execution_count": null,
      "outputs": [
        {
          "output_type": "execute_result",
          "data": {
            "text/plain": [
              "(70000, 784)"
            ]
          },
          "metadata": {
            "tags": []
          },
          "execution_count": 7
        }
      ]
    },
    {
      "cell_type": "markdown",
      "metadata": {
        "id": "H8LX_nlydQbu"
      },
      "source": [
        "Agora vamos instanciar as features do problemas em uma matriz X e os rótulos no vetor y"
      ]
    },
    {
      "cell_type": "code",
      "metadata": {
        "id": "x-1lTRg2ZL_I",
        "colab": {
          "base_uri": "https://localhost:8080/"
        },
        "outputId": "d6409b44-1cf0-4fca-a38a-1dbf21ff70c3"
      },
      "source": [
        "X, y = mnist[\"data\"], mnist[\"target\"]\n",
        "print(X.shape)\n",
        "print(y.shape)"
      ],
      "execution_count": null,
      "outputs": [
        {
          "output_type": "stream",
          "text": [
            "(70000, 784)\n",
            "(70000,)\n"
          ],
          "name": "stdout"
        }
      ]
    },
    {
      "cell_type": "markdown",
      "metadata": {
        "id": "tyetdzuwdiSY"
      },
      "source": [
        "Temos um total de 70000 instâncias e 784 features/características. Vamos agora tentar entender melhor do que se tratam essas 784 características.\r\n",
        "\r\n",
        "Primeiramente, devemos lembrar que os nossos dados são \r\n",
        "<font color= '#5A35B6'>**imagens**</font>. Para ser mais preciso, as 784 representam as intesidades, na escala preto e branco, de cada pixel de uma imagem quadrada com 28px em cada dimensão. \r\n",
        "\r\n",
        "Note que 28*28 = 784.\r\n",
        "\r\n",
        "Vamos agora pegar um dígito, redimensionar em 28 por 28 pixels e visualizar essa imagem.\r\n",
        "\r\n",
        "A seguir, chamamos o \"plt\" do matplotlib, colocando como argumento três paramêmtros:\r\n",
        "\r\n",
        "- A matriz que representa a imagem;\r\n",
        "\r\n",
        "- O mapeamento de cores (color map - cmap). No nosso caso, usaremos inicialmente um esquema binário preto e branco;\r\n",
        "\r\n",
        "- Método de interpolação: originalmente a nossa imagem tem dimensões 28X28 em pixels, ao passo que o matplotlib pode dispor a imagem em outras dimensões, requerendo uma técnica \"interpolação\" para preencher pixels faltando quando redimensionamos a imagem. Para essa finalidade, recomendo usar o método a seguir usando três técnicas: 'nearest', 'gaussian' e 'lanczos'. Em cada uma delas execute o código, que vai gerar uma imagem, após isso abra a imagem em outra aba e afaste (ctrl --) e aproxime (ctrl ++) a imagem para entender esse efeito da interpolação.\r\n",
        "\r\n"
      ]
    },
    {
      "cell_type": "code",
      "metadata": {
        "id": "9HGUPU6GZL_K",
        "colab": {
          "base_uri": "https://localhost:8080/",
          "height": 314
        },
        "outputId": "f31647d8-3e30-4760-a1c7-4694a8dfb244"
      },
      "source": [
        "some_digit = X[36000]\n",
        "some_digit_image = some_digit.reshape(28, 28)\n",
        "\n",
        "plt.imshow(some_digit_image, \n",
        "           cmap = mpl.cm.binary,\n",
        "           interpolation= 'nearest')\n",
        "\n",
        "plt.axis(\"off\") #para desligar os eixos da imagem\n",
        "\n",
        "save_fig(\"some_digit_plot\")\n",
        "plt.show()"
      ],
      "execution_count": null,
      "outputs": [
        {
          "output_type": "stream",
          "text": [
            "Saving figure some_digit_plot\n"
          ],
          "name": "stdout"
        },
        {
          "output_type": "display_data",
          "data": {
            "image/png": "[encoded data removed]",
            "text/plain": [
              "<Figure size 432x288 with 1 Axes>"
            ]
          },
          "metadata": {
            "tags": [],
            "needs_background": "light"
          }
        }
      ]
    },
    {
      "cell_type": "markdown",
      "metadata": {
        "id": "HZPAQHWnjwx3"
      },
      "source": [
        "Vejamos o rótulo:"
      ]
    },
    {
      "cell_type": "code",
      "metadata": {
        "colab": {
          "base_uri": "https://localhost:8080/"
        },
        "id": "qvC9SJHFjvaZ",
        "outputId": "22d1741f-c94f-4d98-cfd4-6e12d4a7537c"
      },
      "source": [
        "y[36000]"
      ],
      "execution_count": null,
      "outputs": [
        {
          "output_type": "execute_result",
          "data": {
            "text/plain": [
              "9"
            ]
          },
          "metadata": {
            "tags": []
          },
          "execution_count": 13
        }
      ]
    },
    {
      "cell_type": "markdown",
      "metadata": {
        "id": "kmCsEWTrjjsX"
      },
      "source": [
        "Vamos agora definir uma função que servirá para plotar as imagens, que basicamente organiza o código que ilustramos anteriormente, podendo ser chamado várias vezes se quisermos."
      ]
    },
    {
      "cell_type": "code",
      "metadata": {
        "id": "dKQW4no6ZL_K"
      },
      "source": [
        "def plot_digit(data):\n",
        "    image = data.reshape(28, 28)\n",
        "    plt.imshow(image, cmap = mpl.cm.binary,\n",
        "               interpolation=\"nearest\")\n",
        "    plt.axis(\"off\")"
      ],
      "execution_count": null,
      "outputs": []
    },
    {
      "cell_type": "markdown",
      "metadata": {
        "id": "iOv5FuLwkAIH"
      },
      "source": [
        "Agora vamos separa o nosso conjunto de treino e teste. Observe que não precisaríamos embaralhar os dados pois eles já vieram embaralhados!\r\n",
        "\r\n",
        "Mas vamo embaralhar apenas que você não se esqueça desse detalhe muito importante.\r\n",
        "\r\n",
        "Aqui estaremos utilizando 60000 imagens para treino e 10000 para teste."
      ]
    },
    {
      "cell_type": "code",
      "metadata": {
        "id": "QWbFBiAoZL_O"
      },
      "source": [
        "X_train, X_test, y_train, y_test = X[:60000], X[60000:], y[:60000], y[60000:]"
      ],
      "execution_count": null,
      "outputs": []
    },
    {
      "cell_type": "code",
      "metadata": {
        "id": "4dAVZrvfZL_O"
      },
      "source": [
        "#Embaralhemento \n",
        "shuffle_index = np.random.permutation(60000)\n",
        "X_train, y_train = X_train[shuffle_index], y_train[shuffle_index]"
      ],
      "execution_count": null,
      "outputs": []
    },
    {
      "cell_type": "markdown",
      "metadata": {
        "id": "UD74VS7XZL_m"
      },
      "source": [
        "# Multiclass classification"
      ]
    },
    {
      "cell_type": "markdown",
      "metadata": {
        "id": "CJ3_Xd0b31A8"
      },
      "source": [
        "Agora vamos usar o conjunto de treinamento através de um esquema de validação cruzada para eleger o modelo mais indicado para o nosso problema. \r\n",
        "\r\n",
        "Antes disso faça um estudo sobre modelos lineares que usam Gradiente Descendente Estocástico (SGD):\r\n",
        "\r\n",
        "- Faça uma leitura sobre assunto no [**guia do usuário**](https://scikit-learn.org/stable/modules/sgd.html#sgd) do sklearn. De acordo com o guia, esses modelos lineares são bem importantes para classificação de textos e processamento natural de linguagem (NLP);\r\n",
        "\r\n",
        "- Dê uma olhada no [**SGDClassifier do sklearn**](https://scikit-learn.org/stable/modules/generated/sklearn.linear_model.SGDClassifier.html#sklearn.linear_model.SGDClassifier). Leia os parágrafos inciais da documemtanção até parte que inicia a descrição dos parâmetros da classe, preste atenção principalmente nos parâmetros: \"loss\", \"penalty\" e \"alpha\".\r\n",
        "\r\n",
        "Vamos fazer uma otimização através dos seguintes parâmetros:\r\n",
        "\r\n",
        "loss : ['hinge', 'log']\r\n",
        "\r\n",
        "alpha: [1e-4,  1e-2,  1]\r\n",
        "\r\n",
        "Pode-se incluir a penalização também, mas evitaremos muitos parâmetros pois o treinamento é demorado."
      ]
    },
    {
      "cell_type": "code",
      "metadata": {
        "colab": {
          "base_uri": "https://localhost:8080/"
        },
        "id": "YxMAoACmRwIo",
        "outputId": "f30d82c3-9a62-4ade-dcf3-fb94b84d759c"
      },
      "source": [
        "from sklearn.linear_model import SGDClassifier \r\n",
        "from sklearn.model_selection import GridSearchCV\r\n",
        "from sklearn.pipeline import Pipeline #Para criar um pipeline!\r\n",
        "from sklearn.preprocessing import StandardScaler\r\n",
        "\r\n",
        "pipe = Pipeline([('std_scaler', StandardScaler()),\r\n",
        "                 ('estimator', SGDClassifier(max_iter = 10, random_state=42))\r\n",
        "             ]) #O nosso modelo passará pelo std_scaler e depois pelo estimador\r\n",
        "\r\n",
        "#Usaremos 10 epochs, por isso max_iter = 10 \r\n",
        "#Cuidado, valores alto de max_iter fazem o algortirmo demorar\r\n",
        "#Outros valores para max_iter ou random_state, vão alterar o resultado\r\n",
        "\r\n",
        "param_grid = [{'estimator__loss' : ['hinge', 'log'],\r\n",
        "               'estimator__alpha': [1e-4, 1e-2, 1],\r\n",
        "               }] #grade de parâmetros para testar\r\n",
        "\r\n",
        "\"\"\"É necessário colocar o prefixo estimator__ para indicar que os parâmetros \r\n",
        "serão aplicados ao estimador. Você poderia tentar otimizar o pré-processamento\r\n",
        "dentro do pipeline também! Mas observa que muitos parâmetros tornam o processo\r\n",
        "bem demora.\r\n",
        "\"\"\"\r\n",
        "\r\n",
        "#Quanto maior o verbose no GridSearch, mais detalhes sobre o processo\r\n",
        "#n_jobs = -1 signifca o número de cores da máquina (-1 usa todos)\r\n",
        "grid_search = GridSearchCV(pipe, param_grid, cv=5, verbose=10, n_jobs=-1)\r\n",
        "grid_search.fit(X_train, y_train)"
      ],
      "execution_count": null,
      "outputs": [
        {
          "output_type": "stream",
          "text": [
            "Fitting 5 folds for each of 6 candidates, totalling 30 fits\n"
          ],
          "name": "stdout"
        },
        {
          "output_type": "stream",
          "text": [
            "[Parallel(n_jobs=-1)]: Using backend LokyBackend with 2 concurrent workers.\n",
            "[Parallel(n_jobs=-1)]: Done   1 tasks      | elapsed:   11.3s\n",
            "[Parallel(n_jobs=-1)]: Done   4 tasks      | elapsed:   21.4s\n",
            "[Parallel(n_jobs=-1)]: Done   9 tasks      | elapsed:  1.1min\n",
            "[Parallel(n_jobs=-1)]: Done  14 tasks      | elapsed:  1.5min\n",
            "[Parallel(n_jobs=-1)]: Done  21 tasks      | elapsed:  2.6min\n",
            "[Parallel(n_jobs=-1)]: Done  30 out of  30 | elapsed:  3.6min finished\n",
            "/usr/local/lib/python3.6/dist-packages/sklearn/linear_model/_stochastic_gradient.py:557: ConvergenceWarning: Maximum number of iteration reached before convergence. Consider increasing max_iter to improve the fit.\n",
            "  ConvergenceWarning)\n"
          ],
          "name": "stderr"
        },
        {
          "output_type": "execute_result",
          "data": {
            "text/plain": [
              "GridSearchCV(cv=5, error_score=nan,\n",
              "             estimator=Pipeline(memory=None,\n",
              "                                steps=[('std_scaler',\n",
              "                                        StandardScaler(copy=True,\n",
              "                                                       with_mean=True,\n",
              "                                                       with_std=True)),\n",
              "                                       ('estimator',\n",
              "                                        SGDClassifier(alpha=0.0001,\n",
              "                                                      average=False,\n",
              "                                                      class_weight=None,\n",
              "                                                      early_stopping=False,\n",
              "                                                      epsilon=0.1, eta0=0.0,\n",
              "                                                      fit_intercept=True,\n",
              "                                                      l1_ratio=0.15,\n",
              "                                                      learning_rate='optimal',\n",
              "                                                      loss='hinge', max_iter=10,\n",
              "                                                      n_iter_no_change=5,\n",
              "                                                      n_jobs=None, penalty='l2',\n",
              "                                                      power_t=0.5,\n",
              "                                                      random_state=42,\n",
              "                                                      shuffle=True, tol=0.001,\n",
              "                                                      validation_fraction=0.1,\n",
              "                                                      verbose=0,\n",
              "                                                      warm_start=False))],\n",
              "                                verbose=False),\n",
              "             iid='deprecated', n_jobs=-1,\n",
              "             param_grid=[{'estimator__alpha': [0.0001, 0.01, 1],\n",
              "                          'estimator__loss': ['hinge', 'log']}],\n",
              "             pre_dispatch='2*n_jobs', refit=True, return_train_score=False,\n",
              "             scoring=None, verbose=10)"
            ]
          },
          "metadata": {
            "tags": []
          },
          "execution_count": 17
        }
      ]
    },
    {
      "cell_type": "markdown",
      "metadata": {
        "id": "gFq2z3afc_0i"
      },
      "source": [
        "Vamos agora visualizar os resultados"
      ]
    },
    {
      "cell_type": "code",
      "metadata": {
        "colab": {
          "base_uri": "https://localhost:8080/",
          "height": 235
        },
        "id": "20dhXNEAcZhP",
        "outputId": "23b42e09-0411-4741-adc0-b913885c1f8c"
      },
      "source": [
        "results = pd.concat([pd.DataFrame(grid_search.cv_results_[\"params\"]),\r\n",
        "                     pd.DataFrame(grid_search.cv_results_['std_test_score'], \r\n",
        "                                  columns=[\"Std\"]),\r\n",
        "                     pd.DataFrame(grid_search.cv_results_[\"mean_test_score\"], \r\n",
        "                                  columns=[\"Score\"])],axis=1)\r\n",
        "\r\n",
        "results.sort_values(\"Score\", ascending=False) #Ordenamento decrescente"
      ],
      "execution_count": null,
      "outputs": [
        {
          "output_type": "execute_result",
          "data": {
            "text/html": [
              "<div>\n",
              "<style scoped>\n",
              "    .dataframe tbody tr th:only-of-type {\n",
              "        vertical-align: middle;\n",
              "    }\n",
              "\n",
              "    .dataframe tbody tr th {\n",
              "        vertical-align: top;\n",
              "    }\n",
              "\n",
              "    .dataframe thead th {\n",
              "        text-align: right;\n",
              "    }\n",
              "</style>\n",
              "<table border=\"1\" class=\"dataframe\">\n",
              "  <thead>\n",
              "    <tr style=\"text-align: right;\">\n",
              "      <th></th>\n",
              "      <th>estimator__alpha</th>\n",
              "      <th>estimator__loss</th>\n",
              "      <th>Std</th>\n",
              "      <th>Score</th>\n",
              "    </tr>\n",
              "  </thead>\n",
              "  <tbody>\n",
              "    <tr>\n",
              "      <th>0</th>\n",
              "      <td>0.0001</td>\n",
              "      <td>hinge</td>\n",
              "      <td>0.002276</td>\n",
              "      <td>0.911800</td>\n",
              "    </tr>\n",
              "    <tr>\n",
              "      <th>1</th>\n",
              "      <td>0.0001</td>\n",
              "      <td>log</td>\n",
              "      <td>0.002614</td>\n",
              "      <td>0.911333</td>\n",
              "    </tr>\n",
              "    <tr>\n",
              "      <th>2</th>\n",
              "      <td>0.0100</td>\n",
              "      <td>hinge</td>\n",
              "      <td>0.003303</td>\n",
              "      <td>0.895133</td>\n",
              "    </tr>\n",
              "    <tr>\n",
              "      <th>3</th>\n",
              "      <td>0.0100</td>\n",
              "      <td>log</td>\n",
              "      <td>0.002763</td>\n",
              "      <td>0.894883</td>\n",
              "    </tr>\n",
              "    <tr>\n",
              "      <th>4</th>\n",
              "      <td>1.0000</td>\n",
              "      <td>hinge</td>\n",
              "      <td>0.005083</td>\n",
              "      <td>0.863683</td>\n",
              "    </tr>\n",
              "    <tr>\n",
              "      <th>5</th>\n",
              "      <td>1.0000</td>\n",
              "      <td>log</td>\n",
              "      <td>0.006217</td>\n",
              "      <td>0.840233</td>\n",
              "    </tr>\n",
              "  </tbody>\n",
              "</table>\n",
              "</div>"
            ],
            "text/plain": [
              "   estimator__alpha estimator__loss       Std     Score\n",
              "0            0.0001           hinge  0.002276  0.911800\n",
              "1            0.0001             log  0.002614  0.911333\n",
              "2            0.0100           hinge  0.003303  0.895133\n",
              "3            0.0100             log  0.002763  0.894883\n",
              "4            1.0000           hinge  0.005083  0.863683\n",
              "5            1.0000             log  0.006217  0.840233"
            ]
          },
          "metadata": {
            "tags": []
          },
          "execution_count": 18
        }
      ]
    },
    {
      "cell_type": "markdown",
      "metadata": {
        "id": "NvvD-tfVaS-0"
      },
      "source": [
        "<font color= '#5A35B6'>**Observações**</font> importantes:\r\n",
        "\r\n",
        "\r\n",
        "\r\n",
        "* Fazendo uma análise preliminar, há indícios de que uma regularização l2 com alpha 0.0001 fornece as melhores respostas. Observa ainda que o modelo está indicado que está havendo subajuste (menor alpha, menos regularização), o que indica que deveríamos procurar um modelo mais complexo para a situação.\r\n",
        "\r\n",
        "*   Outro fato importante de se observar é que não estipulamos o \"score\" no gridSearch e nesse caso o score será herdado do estimador. No nosso exemplo o SGDClassifier por padrão calcula a acurácia, então o score na tabela significa acurácia. \r\n",
        "\r\n",
        "Vamos agora treinar um modelo com os melhores parametros do GridSearch."
      ]
    },
    {
      "cell_type": "code",
      "metadata": {
        "colab": {
          "base_uri": "https://localhost:8080/"
        },
        "id": "wJ3H65RnvUX0",
        "outputId": "1752d750-d55a-4ae3-db1e-8755222442bc"
      },
      "source": [
        "model = Pipeline([('std_scaler', StandardScaler()),\r\n",
        "                 ('estimator', SGDClassifier(max_iter = 10, random_state=42))\r\n",
        "             ])\r\n",
        "\r\n",
        "model.set_params(**grid_search.best_params_) #Introduz no pipeline os parametros\r\n",
        "\r\n"
      ],
      "execution_count": null,
      "outputs": [
        {
          "output_type": "execute_result",
          "data": {
            "text/plain": [
              "Pipeline(memory=None,\n",
              "         steps=[('std_scaler',\n",
              "                 StandardScaler(copy=True, with_mean=True, with_std=True)),\n",
              "                ('estimator',\n",
              "                 SGDClassifier(alpha=0.0001, average=False, class_weight=None,\n",
              "                               early_stopping=False, epsilon=0.1, eta0=0.0,\n",
              "                               fit_intercept=True, l1_ratio=0.15,\n",
              "                               learning_rate='optimal', loss='hinge',\n",
              "                               max_iter=10, n_iter_no_change=5, n_jobs=None,\n",
              "                               penalty='l2', power_t=0.5, random_state=42,\n",
              "                               shuffle=True, tol=0.001, validation_fraction=0.1,\n",
              "                               verbose=0, warm_start=False))],\n",
              "         verbose=False)"
            ]
          },
          "metadata": {
            "tags": []
          },
          "execution_count": 19
        }
      ]
    },
    {
      "cell_type": "code",
      "metadata": {
        "colab": {
          "base_uri": "https://localhost:8080/"
        },
        "id": "di-dwmsvx_Hb",
        "outputId": "4f41280d-36a3-493b-fbf4-0791a9570bed"
      },
      "source": [
        "#Treinando o modelo\r\n",
        "model.fit(X_train, y_train)"
      ],
      "execution_count": null,
      "outputs": [
        {
          "output_type": "stream",
          "text": [
            "/usr/local/lib/python3.6/dist-packages/sklearn/linear_model/_stochastic_gradient.py:557: ConvergenceWarning: Maximum number of iteration reached before convergence. Consider increasing max_iter to improve the fit.\n",
            "  ConvergenceWarning)\n"
          ],
          "name": "stderr"
        },
        {
          "output_type": "execute_result",
          "data": {
            "text/plain": [
              "Pipeline(memory=None,\n",
              "         steps=[('std_scaler',\n",
              "                 StandardScaler(copy=True, with_mean=True, with_std=True)),\n",
              "                ('estimator',\n",
              "                 SGDClassifier(alpha=0.0001, average=False, class_weight=None,\n",
              "                               early_stopping=False, epsilon=0.1, eta0=0.0,\n",
              "                               fit_intercept=True, l1_ratio=0.15,\n",
              "                               learning_rate='optimal', loss='hinge',\n",
              "                               max_iter=10, n_iter_no_change=5, n_jobs=None,\n",
              "                               penalty='l2', power_t=0.5, random_state=42,\n",
              "                               shuffle=True, tol=0.001, validation_fraction=0.1,\n",
              "                               verbose=0, warm_start=False))],\n",
              "         verbose=False)"
            ]
          },
          "metadata": {
            "tags": []
          },
          "execution_count": 20
        }
      ]
    },
    {
      "cell_type": "markdown",
      "metadata": {
        "id": "LByZLgUJiWYg"
      },
      "source": [
        "Vamos agora pegar um elemento do conjunto de teste para dar uma pequena espiada se o modelo está funcionando. \r\n",
        "\r\n",
        "<font color= '#5A35B6'>**Cuidado**</font>: Teoricamente não se deve usar o conjunto de teste até o final do processo. Então devemos utilizar ele agora. Mas se quisermos ser bem rigorosos, no final bastaria não considerar essa única instância que faríamos esse teste preliminar."
      ]
    },
    {
      "cell_type": "code",
      "metadata": {
        "colab": {
          "base_uri": "https://localhost:8080/"
        },
        "id": "rniEmReNgQCH",
        "outputId": "945a6283-4486-4a67-dc33-f70c3bd63a2d"
      },
      "source": [
        "#Instanciando e treinando um digito em espcifico:\r\n",
        "some_digit = X_test[0]\r\n",
        "model.predict([some_digit])"
      ],
      "execution_count": null,
      "outputs": [
        {
          "output_type": "execute_result",
          "data": {
            "text/plain": [
              "array([7], dtype=int8)"
            ]
          },
          "metadata": {
            "tags": []
          },
          "execution_count": 21
        }
      ]
    },
    {
      "cell_type": "code",
      "metadata": {
        "colab": {
          "base_uri": "https://localhost:8080/"
        },
        "id": "ACv01oXyyhoK",
        "outputId": "12ade3d4-f930-4de6-c2f3-a5fcd9ea20c2"
      },
      "source": [
        "y_test[0]"
      ],
      "execution_count": null,
      "outputs": [
        {
          "output_type": "execute_result",
          "data": {
            "text/plain": [
              "7"
            ]
          },
          "metadata": {
            "tags": []
          },
          "execution_count": 22
        }
      ]
    },
    {
      "cell_type": "markdown",
      "metadata": {
        "id": "zxsO-wgEykAF"
      },
      "source": [
        "O resultado foi o esperado? \r\n",
        "\r\n",
        "O SGD é treinado em um esquema OvR, de forma que cada classe tem um estimador associado. Dessa forma, cada estimador fornece um score correspondente a uma certa classe, de forma que o algoritmo rotula a nova instância com o estimador que obteve o maior score."
      ]
    },
    {
      "cell_type": "code",
      "metadata": {
        "id": "cZys7jYGZL_n",
        "colab": {
          "base_uri": "https://localhost:8080/"
        },
        "outputId": "4f228a48-0add-49e1-9960-0f68b5814479"
      },
      "source": [
        "some_digit_scores = model.decision_function([some_digit])\n",
        "some_digit_scores"
      ],
      "execution_count": null,
      "outputs": [
        {
          "output_type": "execute_result",
          "data": {
            "text/plain": [
              "array([[-1151.02879743, -1556.65704299, -1625.00768203,  -723.7029964 ,\n",
              "        -1224.37804869, -1266.90999103, -2350.40223502,   282.94034641,\n",
              "        -1326.0511831 ,  -306.38372845]])"
            ]
          },
          "metadata": {
            "tags": []
          },
          "execution_count": 23
        }
      ]
    },
    {
      "cell_type": "code",
      "metadata": {
        "id": "JPV7z783ZL_n",
        "colab": {
          "base_uri": "https://localhost:8080/"
        },
        "outputId": "d957e314-0aa0-4dbd-c0fd-56938aa2194e"
      },
      "source": [
        "np.argmax(some_digit_scores)"
      ],
      "execution_count": null,
      "outputs": [
        {
          "output_type": "execute_result",
          "data": {
            "text/plain": [
              "7"
            ]
          },
          "metadata": {
            "tags": []
          },
          "execution_count": 24
        }
      ]
    },
    {
      "cell_type": "code",
      "metadata": {
        "id": "Vm_tGokWZL_o",
        "colab": {
          "base_uri": "https://localhost:8080/"
        },
        "outputId": "b727f5cf-9d5a-4c00-ce5b-4c7a3f9d106f"
      },
      "source": [
        "model.classes_"
      ],
      "execution_count": null,
      "outputs": [
        {
          "output_type": "execute_result",
          "data": {
            "text/plain": [
              "array([0, 1, 2, 3, 4, 5, 6, 7, 8, 9], dtype=int8)"
            ]
          },
          "metadata": {
            "tags": []
          },
          "execution_count": 25
        }
      ]
    },
    {
      "cell_type": "markdown",
      "metadata": {
        "id": "5yIa_JG5zT-l"
      },
      "source": [
        "Agora nós faremos uma coisa interessante: \r\n",
        "\r\n",
        "Vamos forçar o SGD a usar esquema OvO."
      ]
    },
    {
      "cell_type": "code",
      "metadata": {
        "id": "PIBJMbkwZL_p"
      },
      "source": [
        "#classe que implementa OvO na força\n",
        "from sklearn.multiclass import OneVsOneClassifier\n",
        "\n",
        "#Vamos aumentar o número de iterações.\n",
        "#Lembra que na técnica OvO há mais treinamentos mas pode ser interessante \n",
        "#quando o modelo sofre com a escala\n",
        "\n",
        "model = Pipeline([('std_scaler', StandardScaler()),\n",
        "                 ('estimator', SGDClassifier(max_iter = 1000, random_state=42))\n",
        "             ])\n",
        "\n",
        "model.set_params(**grid_search.best_params_)\n",
        "ovo_clf = OneVsOneClassifier(model)"
      ],
      "execution_count": null,
      "outputs": []
    },
    {
      "cell_type": "markdown",
      "metadata": {
        "id": "I07NohmM0jLW"
      },
      "source": [
        "Façamos uma validação cruzada para verificar o desempenho:"
      ]
    },
    {
      "cell_type": "code",
      "metadata": {
        "id": "49wQQzUg0dRB"
      },
      "source": [
        "from sklearn.model_selection import cross_val_score\r\n",
        "scores = cross_val_score(ovo_clf, X_train, y_train, cv=5)"
      ],
      "execution_count": null,
      "outputs": []
    },
    {
      "cell_type": "code",
      "metadata": {
        "colab": {
          "base_uri": "https://localhost:8080/"
        },
        "id": "DgqBycS51fio",
        "outputId": "432c2139-e3b1-4c04-dee8-b1156fd6ac8c"
      },
      "source": [
        "scores"
      ],
      "execution_count": null,
      "outputs": [
        {
          "output_type": "execute_result",
          "data": {
            "text/plain": [
              "array([0.91583333, 0.91516667, 0.91408333, 0.91916667, 0.91333333])"
            ]
          },
          "metadata": {
            "tags": []
          },
          "execution_count": 28
        }
      ]
    },
    {
      "cell_type": "code",
      "metadata": {
        "colab": {
          "base_uri": "https://localhost:8080/"
        },
        "id": "3J2koe521hw7",
        "outputId": "bb859496-42f0-48f1-b3d9-58669048d9f4"
      },
      "source": [
        "np.mean(scores)"
      ],
      "execution_count": null,
      "outputs": [
        {
          "output_type": "execute_result",
          "data": {
            "text/plain": [
              "0.9155166666666666"
            ]
          },
          "metadata": {
            "tags": []
          },
          "execution_count": 29
        }
      ]
    },
    {
      "cell_type": "markdown",
      "metadata": {
        "id": "NC5ISJWL1yL2"
      },
      "source": [
        "Vamos treinar no conjunto de dados"
      ]
    },
    {
      "cell_type": "code",
      "metadata": {
        "colab": {
          "base_uri": "https://localhost:8080/"
        },
        "id": "aBmoBigu0IZm",
        "outputId": "b8fe6c5f-41ea-48b8-aeda-26391ad5760e"
      },
      "source": [
        "ovo_clf.fit(X_train, y_train)\r\n",
        "ovo_clf.predict([some_digit])"
      ],
      "execution_count": null,
      "outputs": [
        {
          "output_type": "execute_result",
          "data": {
            "text/plain": [
              "array([7], dtype=int8)"
            ]
          },
          "metadata": {
            "tags": []
          },
          "execution_count": 30
        }
      ]
    },
    {
      "cell_type": "markdown",
      "metadata": {
        "id": "4yUB8PpT00sS"
      },
      "source": [
        "Como temos 10 classes ao todo, no esquema OvO treinamos um total de  $\\displaystyle C_{10, 2} = \\frac{10!}{(10-2)! 2! } = 45$ modelos."
      ]
    },
    {
      "cell_type": "code",
      "metadata": {
        "id": "hrK08FtzZL_p",
        "colab": {
          "base_uri": "https://localhost:8080/"
        },
        "outputId": "903f393a-add1-4158-86dc-e77e18d1d2cd"
      },
      "source": [
        "len(ovo_clf.estimators_)"
      ],
      "execution_count": null,
      "outputs": [
        {
          "output_type": "execute_result",
          "data": {
            "text/plain": [
              "45"
            ]
          },
          "metadata": {
            "tags": []
          },
          "execution_count": 31
        }
      ]
    },
    {
      "cell_type": "markdown",
      "metadata": {
        "id": "ypu3G4aF3kbM"
      },
      "source": [
        "Agora vamos preparar o nosso modelo para uma avaliação final no conjunto de teste.\r\n"
      ]
    },
    {
      "cell_type": "code",
      "metadata": {
        "id": "UCEcaJ64ZL_r"
      },
      "source": [
        "from sklearn.metrics  import confusion_matrix"
      ],
      "execution_count": null,
      "outputs": []
    },
    {
      "cell_type": "code",
      "metadata": {
        "id": "pDzbfuKlZL_s",
        "colab": {
          "base_uri": "https://localhost:8080/"
        },
        "outputId": "afff3d52-0b84-45b1-a6a4-0f152ec0d17c"
      },
      "source": [
        "y_pred = ovo_clf.predict(X_test)\n",
        "conf_mx = confusion_matrix(y_test, y_pred)\n",
        "conf_mx"
      ],
      "execution_count": null,
      "outputs": [
        {
          "output_type": "execute_result",
          "data": {
            "text/plain": [
              "array([[ 943,    0,   11,    2,    1,   10,    8,    2,    3,    0],\n",
              "       [   0, 1102,   11,    3,    0,    1,    1,    4,   13,    0],\n",
              "       [   4,    4,  970,   13,    2,    2,    5,    7,   21,    4],\n",
              "       [   3,    0,   18,  925,    1,   29,    1,    7,   22,    4],\n",
              "       [   2,    1,   17,    0,  922,    0,    2,    7,    8,   23],\n",
              "       [   6,    1,    6,   34,    5,  789,   10,    3,   31,    7],\n",
              "       [   8,    3,   25,    3,    9,   24,  884,    0,    2,    0],\n",
              "       [   0,    4,   25,   18,    3,    1,    0,  948,    5,   24],\n",
              "       [   5,    1,   10,   31,    7,   23,    5,    4,  882,    6],\n",
              "       [   5,    6,    6,    9,   37,    6,    0,   29,   22,  889]])"
            ]
          },
          "metadata": {
            "tags": []
          },
          "execution_count": 33
        }
      ]
    },
    {
      "cell_type": "code",
      "metadata": {
        "colab": {
          "base_uri": "https://localhost:8080/"
        },
        "id": "7FaDkhi95qFt",
        "outputId": "2fb8a0e3-97f5-4b4c-dbcc-24a180542821"
      },
      "source": [
        "from sklearn.metrics import accuracy_score\r\n",
        "accuracy_score(y_test, y_pred)"
      ],
      "execution_count": null,
      "outputs": [
        {
          "output_type": "execute_result",
          "data": {
            "text/plain": [
              "0.9254"
            ]
          },
          "metadata": {
            "tags": []
          },
          "execution_count": 34
        }
      ]
    },
    {
      "cell_type": "markdown",
      "metadata": {
        "id": "QG_uFcNS-Q6f"
      },
      "source": [
        "#Agora é a sua vez"
      ]
    },
    {
      "cell_type": "markdown",
      "metadata": {
        "id": "EwaYz6k8-U63"
      },
      "source": [
        "Agora você deve repetir o processo, mas utilizando uma etapa de pré-processamento chamando \"data augmentation\". No caso de imagens, essa técnica pode consistir de diversas metodologias, como: aumentar o número de instâncias de treinamento com rotações e translações das imagens. \r\n",
        "\r\n",
        "Nesse caso, a tua missão é treinar um novo modelo no MNIST utilizando translações no conjunto de treinamento. Fazendo isso, ensinamos o modelo a não esperar a figura centrada na imagem, podendo aumentar sua performance no teste. \r\n",
        "\r\n",
        "**Sua tarefa:**\r\n",
        "\r\n",
        "- Crie uma função  para aumentar o conjunto de **treinamento**, de forma a fazer translações nas imagens. Após isso, você deve treinar o SGDClassifier nesse conjunto de dados aumentado.\r\n",
        "\r\n",
        "- Teste o modelo no mesmo conjunto de teste que eu separei - isso é apenas um artifício didático para comparar o data augmentation, a partir do segundo teste a estimativa do erro de generalização deveria ser corrigida se quisermos obter uma estiva de performance!\r\n",
        "\r\n",
        "\r\n",
        "Se você estiver com dificuldades, veja a solução do exercício 2 aqui nesse [notebook](https://github.com/ageron/handson-ml/blob/master/03_classification.ipynb) do A. Géron."
      ]
    },
    {
      "cell_type": "code",
      "metadata": {
        "id": "7QtFpoCI-p2M"
      },
      "source": [
        "from scipy.ndimage.interpolation import shift"
      ],
      "execution_count": 36,
      "outputs": []
    },
    {
      "cell_type": "code",
      "metadata": {
        "id": "uRsoWwrmH0Sb"
      },
      "source": [
        "def shift_image(image, dx, dy):\r\n",
        "    image = image.reshape((28, 28))\r\n",
        "    shifted_image = shift(image, [dy, dx], cval=0, mode=\"constant\")\r\n",
        "    return shifted_image.reshape([-1])"
      ],
      "execution_count": 39,
      "outputs": []
    },
    {
      "cell_type": "code",
      "metadata": {
        "colab": {
          "base_uri": "https://localhost:8080/",
          "height": 231
        },
        "id": "kDMGdsJEH2t9",
        "outputId": "239dd62d-8287-47c6-8719-b8fb28b7af87"
      },
      "source": [
        "image = X_train[1000]\r\n",
        "shifted_image_up = shift_image(image, 0, -5)\r\n",
        "shifted_image_right = shift_image(image, 5, 0)\r\n",
        "\r\n",
        "plt.figure(figsize=(12,3))\r\n",
        "plt.subplot(131)\r\n",
        "plt.title(\"Original\", fontsize=14)\r\n",
        "plt.imshow(image.reshape(28, 28), interpolation=\"nearest\", cmap=\"Greys\")\r\n",
        "plt.subplot(132)\r\n",
        "plt.title(\"Shifted up\", fontsize=14)\r\n",
        "plt.imshow(shifted_image_up.reshape(28, 28), interpolation=\"nearest\", cmap=\"Greys\")\r\n",
        "plt.subplot(133)\r\n",
        "plt.title(\"Shifted right\", fontsize=14)\r\n",
        "plt.imshow(shifted_image_right.reshape(28, 28), interpolation=\"nearest\", cmap=\"Greys\")\r\n",
        "plt.show()"
      ],
      "execution_count": 58,
      "outputs": [
        {
          "output_type": "display_data",
          "data": {
            "image/png": "[encoded data removed]",
            "text/plain": [
              "<Figure size 864x216 with 3 Axes>"
            ]
          },
          "metadata": {
            "tags": [],
            "needs_background": "light"
          }
        }
      ]
    },
    {
      "cell_type": "code",
      "metadata": {
        "id": "89YL5Un3JwOC"
      },
      "source": [
        "X_train_augmented = [image for image in X_train]\r\n",
        "y_train_augmented = [label for label in y_train]\r\n",
        "\r\n",
        "for dx, dy in ((1, 0), (-1, 0), (0, 1), (0, -1)):\r\n",
        "    for image, label in zip(X_train, y_train):\r\n",
        "        X_train_augmented.append(shift_image(image, dx, dy))\r\n",
        "        y_train_augmented.append(label)\r\n",
        "\r\n",
        "X_train_augmented = np.array(X_train_augmented)\r\n",
        "y_train_augmented = np.array(y_train_augmented)"
      ],
      "execution_count": 63,
      "outputs": []
    },
    {
      "cell_type": "code",
      "metadata": {
        "id": "w59aGkJ8IFKD"
      },
      "source": [
        "shuffle_idx = np.random.permutation(len(X_train_augmented))\r\n",
        "X_train_augmented = X_train_augmented[shuffle_idx]\r\n",
        "y_train_augmented = y_train_augmented[shuffle_idx]"
      ],
      "execution_count": 64,
      "outputs": []
    },
    {
      "cell_type": "code",
      "metadata": {
        "id": "nNcLoC9FLMSq"
      },
      "source": [
        "#classe que implementa OvO na força\r\n",
        "from sklearn.multiclass import OneVsOneClassifier\r\n",
        "\r\n",
        "#Vamos aumentar o número de iterações.\r\n",
        "#Lembra que na técnica OvO há mais treinamentos mas pode ser interessante \r\n",
        "#quando o modelo sofre com a escala\r\n",
        "\r\n",
        "model = Pipeline([('std_scaler', StandardScaler()),\r\n",
        "                 ('estimator', SGDClassifier(max_iter = 1000, random_state=42))\r\n",
        "             ])\r\n",
        "\r\n",
        "model.set_params(**grid_search.best_params_)\r\n",
        "ovo_clf = OneVsOneClassifier(model)"
      ],
      "execution_count": 65,
      "outputs": []
    },
    {
      "cell_type": "code",
      "metadata": {
        "colab": {
          "base_uri": "https://localhost:8080/"
        },
        "id": "m9t5v8OhLTS1",
        "outputId": "ef04d49f-ef9f-4842-9744-6f88717fb14c"
      },
      "source": [
        "ovo_clf.fit(X_train_augmented, y_train_augmented)\r\n",
        "\r\n",
        "from sklearn.metrics  import confusion_matrix\r\n",
        "\r\n",
        "y_pred = ovo_clf.predict(X_test)\r\n",
        "conf_mx = confusion_matrix(y_test, y_pred)\r\n",
        "conf_mx"
      ],
      "execution_count": 66,
      "outputs": [
        {
          "output_type": "execute_result",
          "data": {
            "text/plain": [
              "array([[ 963,    0,    2,    0,    1,    6,    4,    1,    2,    1],\n",
              "       [   0, 1124,    4,    1,    1,    1,    2,    0,    2,    0],\n",
              "       [   7,    3,  940,   16,   16,    2,    9,    5,   32,    2],\n",
              "       [   4,    4,   11,  929,    1,   21,    2,   13,   21,    4],\n",
              "       [   1,    1,    8,    0,  945,    0,    4,    4,    1,   18],\n",
              "       [   7,    4,    5,   39,    7,  797,    9,    1,   19,    4],\n",
              "       [  12,    3,   10,    0,    4,   10,  917,    1,    1,    0],\n",
              "       [   1,    4,   20,    7,    6,    0,    0,  961,    3,   26],\n",
              "       [   8,    6,   10,   26,    5,   18,    9,    8,  879,    5],\n",
              "       [   6,    9,    1,   12,   27,    2,    0,   27,    9,  916]])"
            ]
          },
          "metadata": {
            "tags": []
          },
          "execution_count": 66
        }
      ]
    },
    {
      "cell_type": "code",
      "metadata": {
        "colab": {
          "base_uri": "https://localhost:8080/"
        },
        "id": "ZvNfruO7LzM7",
        "outputId": "81d484fb-ff83-4bad-c4a9-f7f008408ec2"
      },
      "source": [
        "from sklearn.metrics import accuracy_score\r\n",
        "accuracy_score(y_test, y_pred)"
      ],
      "execution_count": 67,
      "outputs": [
        {
          "output_type": "execute_result",
          "data": {
            "text/plain": [
              "0.9371"
            ]
          },
          "metadata": {
            "tags": []
          },
          "execution_count": 67
        }
      ]
    }
  ]
}