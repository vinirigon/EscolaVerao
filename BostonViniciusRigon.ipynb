{
  "nbformat": 4,
  "nbformat_minor": 0,
  "metadata": {
    "colab": {
      "name": "BostonViniciusRigon.ipynb",
      "provenance": []
    },
    "kernelspec": {
      "name": "python3",
      "display_name": "Python 3"
    }
  },
  "cells": [
    {
      "cell_type": "markdown",
      "metadata": {
        "id": "gsTgpKr_uUUK"
      },
      "source": [
        "Um setup para rodar em python 2 e 3"
      ]
    },
    {
      "cell_type": "code",
      "metadata": {
        "id": "Qah_NMjOseCC"
      },
      "source": [
        "# To support both python 2 and python 3\r\n",
        "from __future__ import division, print_function, unicode_literals\r\n",
        "\r\n",
        "# Common imports\r\n",
        "import numpy as np\r\n",
        "import os\r\n",
        "import pandas as pd\r\n",
        "\r\n",
        "# to make this notebook's output stable across runs\r\n",
        "seed = 72\r\n",
        "np.random.seed(seed)\r\n",
        "\r\n",
        "# To plot pretty figures\r\n",
        "%matplotlib inline\r\n",
        "import matplotlib as mpl\r\n",
        "import matplotlib.pyplot as plt\r\n",
        "import seaborn as sns\r\n",
        "mpl.rc('axes', labelsize=14)\r\n",
        "mpl.rc('xtick', labelsize=12)\r\n",
        "mpl.rc('ytick', labelsize=12)\r\n",
        "\r\n",
        "# Where to save the figures\r\n",
        "PROJECT_ROOT_DIR = \".\"\r\n",
        "CHAPTER_ID = \"end_to_end_project\"\r\n",
        "IMAGES_PATH = os.path.join(PROJECT_ROOT_DIR, \"images\", CHAPTER_ID)\r\n",
        "\r\n",
        "def save_fig(fig_id, tight_layout=True, fig_extension=\"png\", resolution=300):\r\n",
        "    path = os.path.join(IMAGES_PATH, fig_id + \".\" + fig_extension)\r\n",
        "    print(\"Saving figure\", fig_id)\r\n",
        "    if tight_layout:\r\n",
        "        plt.tight_layout()\r\n",
        "    plt.savefig(path, format=fig_extension, dpi=resolution)\r\n",
        "\r\n",
        "# Ignore useless warnings (see SciPy issue #5998)\r\n",
        "import warnings\r\n",
        "warnings.filterwarnings(action=\"ignore\", message=\"^internal gelsd\")"
      ],
      "execution_count": 91,
      "outputs": []
    },
    {
      "cell_type": "markdown",
      "metadata": {
        "id": "2cPgRhFpuvpJ"
      },
      "source": [
        "Pegando os dados"
      ]
    },
    {
      "cell_type": "code",
      "metadata": {
        "colab": {
          "base_uri": "https://localhost:8080/"
        },
        "id": "2VBR2qKIuxeT",
        "outputId": "ce8ae00f-e726-4f53-a773-09f26c3ad091"
      },
      "source": [
        "from sklearn.datasets import load_boston #utilizando o próprio sklearn para obter os dados\r\n",
        "boston = load_boston()\r\n",
        "boston.keys() #para visualizar melhor oq temos disponível"
      ],
      "execution_count": 30,
      "outputs": [
        {
          "output_type": "execute_result",
          "data": {
            "text/plain": [
              "dict_keys(['data', 'target', 'feature_names', 'DESCR', 'filename'])"
            ]
          },
          "metadata": {
            "tags": []
          },
          "execution_count": 30
        }
      ]
    },
    {
      "cell_type": "markdown",
      "metadata": {
        "id": "cWpFM5JL0Lla"
      },
      "source": [
        "Descrição do conjunto de dados"
      ]
    },
    {
      "cell_type": "code",
      "metadata": {
        "colab": {
          "base_uri": "https://localhost:8080/"
        },
        "id": "eb3Q0T4k0GQK",
        "outputId": "e9380861-881e-4ce4-fe7e-6339913a8fac"
      },
      "source": [
        "print(boston.DESCR)"
      ],
      "execution_count": 31,
      "outputs": [
        {
          "output_type": "stream",
          "text": [
            ".. _boston_dataset:\n",
            "\n",
            "Boston house prices dataset\n",
            "---------------------------\n",
            "\n",
            "**Data Set Characteristics:**  \n",
            "\n",
            "    :Number of Instances: 506 \n",
            "\n",
            "    :Number of Attributes: 13 numeric/categorical predictive. Median Value (attribute 14) is usually the target.\n",
            "\n",
            "    :Attribute Information (in order):\n",
            "        - CRIM     per capita crime rate by town\n",
            "        - ZN       proportion of residential land zoned for lots over 25,000 sq.ft.\n",
            "        - INDUS    proportion of non-retail business acres per town\n",
            "        - CHAS     Charles River dummy variable (= 1 if tract bounds river; 0 otherwise)\n",
            "        - NOX      nitric oxides concentration (parts per 10 million)\n",
            "        - RM       average number of rooms per dwelling\n",
            "        - AGE      proportion of owner-occupied units built prior to 1940\n",
            "        - DIS      weighted distances to five Boston employment centres\n",
            "        - RAD      index of accessibility to radial highways\n",
            "        - TAX      full-value property-tax rate per $10,000\n",
            "        - PTRATIO  pupil-teacher ratio by town\n",
            "        - B        1000(Bk - 0.63)^2 where Bk is the proportion of blacks by town\n",
            "        - LSTAT    % lower status of the population\n",
            "        - MEDV     Median value of owner-occupied homes in $1000's\n",
            "\n",
            "    :Missing Attribute Values: None\n",
            "\n",
            "    :Creator: Harrison, D. and Rubinfeld, D.L.\n",
            "\n",
            "This is a copy of UCI ML housing dataset.\n",
            "https://archive.ics.uci.edu/ml/machine-learning-databases/housing/\n",
            "\n",
            "\n",
            "This dataset was taken from the StatLib library which is maintained at Carnegie Mellon University.\n",
            "\n",
            "The Boston house-price data of Harrison, D. and Rubinfeld, D.L. 'Hedonic\n",
            "prices and the demand for clean air', J. Environ. Economics & Management,\n",
            "vol.5, 81-102, 1978.   Used in Belsley, Kuh & Welsch, 'Regression diagnostics\n",
            "...', Wiley, 1980.   N.B. Various transformations are used in the table on\n",
            "pages 244-261 of the latter.\n",
            "\n",
            "The Boston house-price data has been used in many machine learning papers that address regression\n",
            "problems.   \n",
            "     \n",
            ".. topic:: References\n",
            "\n",
            "   - Belsley, Kuh & Welsch, 'Regression diagnostics: Identifying Influential Data and Sources of Collinearity', Wiley, 1980. 244-261.\n",
            "   - Quinlan,R. (1993). Combining Instance-Based and Model-Based Learning. In Proceedings on the Tenth International Conference of Machine Learning, 236-243, University of Massachusetts, Amherst. Morgan Kaufmann.\n",
            "\n"
          ],
          "name": "stdout"
        }
      ]
    },
    {
      "cell_type": "markdown",
      "metadata": {
        "id": "dlXWIEUa013r"
      },
      "source": [
        "Agora, vamos converter os dados para uma tabela de dados (dataframe)"
      ]
    },
    {
      "cell_type": "code",
      "metadata": {
        "colab": {
          "base_uri": "https://localhost:8080/",
          "height": 204
        },
        "id": "rY3xURQ01JAf",
        "outputId": "8844d8fb-ed58-4a25-c563-f2c531955730"
      },
      "source": [
        "dataFrame = pd.DataFrame(boston.data, columns = boston.feature_names)\r\n",
        "dataFrame.head() #visualizar os primeiros dados da tabela"
      ],
      "execution_count": 32,
      "outputs": [
        {
          "output_type": "execute_result",
          "data": {
            "text/html": [
              "<div>\n",
              "<style scoped>\n",
              "    .dataframe tbody tr th:only-of-type {\n",
              "        vertical-align: middle;\n",
              "    }\n",
              "\n",
              "    .dataframe tbody tr th {\n",
              "        vertical-align: top;\n",
              "    }\n",
              "\n",
              "    .dataframe thead th {\n",
              "        text-align: right;\n",
              "    }\n",
              "</style>\n",
              "<table border=\"1\" class=\"dataframe\">\n",
              "  <thead>\n",
              "    <tr style=\"text-align: right;\">\n",
              "      <th></th>\n",
              "      <th>CRIM</th>\n",
              "      <th>ZN</th>\n",
              "      <th>INDUS</th>\n",
              "      <th>CHAS</th>\n",
              "      <th>NOX</th>\n",
              "      <th>RM</th>\n",
              "      <th>AGE</th>\n",
              "      <th>DIS</th>\n",
              "      <th>RAD</th>\n",
              "      <th>TAX</th>\n",
              "      <th>PTRATIO</th>\n",
              "      <th>B</th>\n",
              "      <th>LSTAT</th>\n",
              "    </tr>\n",
              "  </thead>\n",
              "  <tbody>\n",
              "    <tr>\n",
              "      <th>0</th>\n",
              "      <td>0.00632</td>\n",
              "      <td>18.0</td>\n",
              "      <td>2.31</td>\n",
              "      <td>0.0</td>\n",
              "      <td>0.538</td>\n",
              "      <td>6.575</td>\n",
              "      <td>65.2</td>\n",
              "      <td>4.0900</td>\n",
              "      <td>1.0</td>\n",
              "      <td>296.0</td>\n",
              "      <td>15.3</td>\n",
              "      <td>396.90</td>\n",
              "      <td>4.98</td>\n",
              "    </tr>\n",
              "    <tr>\n",
              "      <th>1</th>\n",
              "      <td>0.02731</td>\n",
              "      <td>0.0</td>\n",
              "      <td>7.07</td>\n",
              "      <td>0.0</td>\n",
              "      <td>0.469</td>\n",
              "      <td>6.421</td>\n",
              "      <td>78.9</td>\n",
              "      <td>4.9671</td>\n",
              "      <td>2.0</td>\n",
              "      <td>242.0</td>\n",
              "      <td>17.8</td>\n",
              "      <td>396.90</td>\n",
              "      <td>9.14</td>\n",
              "    </tr>\n",
              "    <tr>\n",
              "      <th>2</th>\n",
              "      <td>0.02729</td>\n",
              "      <td>0.0</td>\n",
              "      <td>7.07</td>\n",
              "      <td>0.0</td>\n",
              "      <td>0.469</td>\n",
              "      <td>7.185</td>\n",
              "      <td>61.1</td>\n",
              "      <td>4.9671</td>\n",
              "      <td>2.0</td>\n",
              "      <td>242.0</td>\n",
              "      <td>17.8</td>\n",
              "      <td>392.83</td>\n",
              "      <td>4.03</td>\n",
              "    </tr>\n",
              "    <tr>\n",
              "      <th>3</th>\n",
              "      <td>0.03237</td>\n",
              "      <td>0.0</td>\n",
              "      <td>2.18</td>\n",
              "      <td>0.0</td>\n",
              "      <td>0.458</td>\n",
              "      <td>6.998</td>\n",
              "      <td>45.8</td>\n",
              "      <td>6.0622</td>\n",
              "      <td>3.0</td>\n",
              "      <td>222.0</td>\n",
              "      <td>18.7</td>\n",
              "      <td>394.63</td>\n",
              "      <td>2.94</td>\n",
              "    </tr>\n",
              "    <tr>\n",
              "      <th>4</th>\n",
              "      <td>0.06905</td>\n",
              "      <td>0.0</td>\n",
              "      <td>2.18</td>\n",
              "      <td>0.0</td>\n",
              "      <td>0.458</td>\n",
              "      <td>7.147</td>\n",
              "      <td>54.2</td>\n",
              "      <td>6.0622</td>\n",
              "      <td>3.0</td>\n",
              "      <td>222.0</td>\n",
              "      <td>18.7</td>\n",
              "      <td>396.90</td>\n",
              "      <td>5.33</td>\n",
              "    </tr>\n",
              "  </tbody>\n",
              "</table>\n",
              "</div>"
            ],
            "text/plain": [
              "      CRIM    ZN  INDUS  CHAS    NOX  ...  RAD    TAX  PTRATIO       B  LSTAT\n",
              "0  0.00632  18.0   2.31   0.0  0.538  ...  1.0  296.0     15.3  396.90   4.98\n",
              "1  0.02731   0.0   7.07   0.0  0.469  ...  2.0  242.0     17.8  396.90   9.14\n",
              "2  0.02729   0.0   7.07   0.0  0.469  ...  2.0  242.0     17.8  392.83   4.03\n",
              "3  0.03237   0.0   2.18   0.0  0.458  ...  3.0  222.0     18.7  394.63   2.94\n",
              "4  0.06905   0.0   2.18   0.0  0.458  ...  3.0  222.0     18.7  396.90   5.33\n",
              "\n",
              "[5 rows x 13 columns]"
            ]
          },
          "metadata": {
            "tags": []
          },
          "execution_count": 32
        }
      ]
    },
    {
      "cell_type": "markdown",
      "metadata": {
        "id": "WA35o3Nq3M-z"
      },
      "source": [
        "Quando visualizamos os dados, é possível parceber que está faltando dados sobre os preços. Estes dados estão contidos em \"boston.target\", portanto precisamos adicioná-los em nosso dataframe."
      ]
    },
    {
      "cell_type": "code",
      "metadata": {
        "colab": {
          "base_uri": "https://localhost:8080/",
          "height": 204
        },
        "id": "wY5kZUle3dF-",
        "outputId": "d2afb171-cc60-4c90-dcb9-ed4bd91e6f79"
      },
      "source": [
        "dataFrame['PRICE'] = boston.target\r\n",
        "dataFrame.head()"
      ],
      "execution_count": 33,
      "outputs": [
        {
          "output_type": "execute_result",
          "data": {
            "text/html": [
              "<div>\n",
              "<style scoped>\n",
              "    .dataframe tbody tr th:only-of-type {\n",
              "        vertical-align: middle;\n",
              "    }\n",
              "\n",
              "    .dataframe tbody tr th {\n",
              "        vertical-align: top;\n",
              "    }\n",
              "\n",
              "    .dataframe thead th {\n",
              "        text-align: right;\n",
              "    }\n",
              "</style>\n",
              "<table border=\"1\" class=\"dataframe\">\n",
              "  <thead>\n",
              "    <tr style=\"text-align: right;\">\n",
              "      <th></th>\n",
              "      <th>CRIM</th>\n",
              "      <th>ZN</th>\n",
              "      <th>INDUS</th>\n",
              "      <th>CHAS</th>\n",
              "      <th>NOX</th>\n",
              "      <th>RM</th>\n",
              "      <th>AGE</th>\n",
              "      <th>DIS</th>\n",
              "      <th>RAD</th>\n",
              "      <th>TAX</th>\n",
              "      <th>PTRATIO</th>\n",
              "      <th>B</th>\n",
              "      <th>LSTAT</th>\n",
              "      <th>PRICE</th>\n",
              "    </tr>\n",
              "  </thead>\n",
              "  <tbody>\n",
              "    <tr>\n",
              "      <th>0</th>\n",
              "      <td>0.00632</td>\n",
              "      <td>18.0</td>\n",
              "      <td>2.31</td>\n",
              "      <td>0.0</td>\n",
              "      <td>0.538</td>\n",
              "      <td>6.575</td>\n",
              "      <td>65.2</td>\n",
              "      <td>4.0900</td>\n",
              "      <td>1.0</td>\n",
              "      <td>296.0</td>\n",
              "      <td>15.3</td>\n",
              "      <td>396.90</td>\n",
              "      <td>4.98</td>\n",
              "      <td>24.0</td>\n",
              "    </tr>\n",
              "    <tr>\n",
              "      <th>1</th>\n",
              "      <td>0.02731</td>\n",
              "      <td>0.0</td>\n",
              "      <td>7.07</td>\n",
              "      <td>0.0</td>\n",
              "      <td>0.469</td>\n",
              "      <td>6.421</td>\n",
              "      <td>78.9</td>\n",
              "      <td>4.9671</td>\n",
              "      <td>2.0</td>\n",
              "      <td>242.0</td>\n",
              "      <td>17.8</td>\n",
              "      <td>396.90</td>\n",
              "      <td>9.14</td>\n",
              "      <td>21.6</td>\n",
              "    </tr>\n",
              "    <tr>\n",
              "      <th>2</th>\n",
              "      <td>0.02729</td>\n",
              "      <td>0.0</td>\n",
              "      <td>7.07</td>\n",
              "      <td>0.0</td>\n",
              "      <td>0.469</td>\n",
              "      <td>7.185</td>\n",
              "      <td>61.1</td>\n",
              "      <td>4.9671</td>\n",
              "      <td>2.0</td>\n",
              "      <td>242.0</td>\n",
              "      <td>17.8</td>\n",
              "      <td>392.83</td>\n",
              "      <td>4.03</td>\n",
              "      <td>34.7</td>\n",
              "    </tr>\n",
              "    <tr>\n",
              "      <th>3</th>\n",
              "      <td>0.03237</td>\n",
              "      <td>0.0</td>\n",
              "      <td>2.18</td>\n",
              "      <td>0.0</td>\n",
              "      <td>0.458</td>\n",
              "      <td>6.998</td>\n",
              "      <td>45.8</td>\n",
              "      <td>6.0622</td>\n",
              "      <td>3.0</td>\n",
              "      <td>222.0</td>\n",
              "      <td>18.7</td>\n",
              "      <td>394.63</td>\n",
              "      <td>2.94</td>\n",
              "      <td>33.4</td>\n",
              "    </tr>\n",
              "    <tr>\n",
              "      <th>4</th>\n",
              "      <td>0.06905</td>\n",
              "      <td>0.0</td>\n",
              "      <td>2.18</td>\n",
              "      <td>0.0</td>\n",
              "      <td>0.458</td>\n",
              "      <td>7.147</td>\n",
              "      <td>54.2</td>\n",
              "      <td>6.0622</td>\n",
              "      <td>3.0</td>\n",
              "      <td>222.0</td>\n",
              "      <td>18.7</td>\n",
              "      <td>396.90</td>\n",
              "      <td>5.33</td>\n",
              "      <td>36.2</td>\n",
              "    </tr>\n",
              "  </tbody>\n",
              "</table>\n",
              "</div>"
            ],
            "text/plain": [
              "      CRIM    ZN  INDUS  CHAS    NOX  ...    TAX  PTRATIO       B  LSTAT  PRICE\n",
              "0  0.00632  18.0   2.31   0.0  0.538  ...  296.0     15.3  396.90   4.98   24.0\n",
              "1  0.02731   0.0   7.07   0.0  0.469  ...  242.0     17.8  396.90   9.14   21.6\n",
              "2  0.02729   0.0   7.07   0.0  0.469  ...  242.0     17.8  392.83   4.03   34.7\n",
              "3  0.03237   0.0   2.18   0.0  0.458  ...  222.0     18.7  394.63   2.94   33.4\n",
              "4  0.06905   0.0   2.18   0.0  0.458  ...  222.0     18.7  396.90   5.33   36.2\n",
              "\n",
              "[5 rows x 14 columns]"
            ]
          },
          "metadata": {
            "tags": []
          },
          "execution_count": 33
        }
      ]
    },
    {
      "cell_type": "markdown",
      "metadata": {
        "id": "JWumwW_B4lAv"
      },
      "source": [
        "A principio, todos os dados são numéricos, mas vamos nos informar melhor sobre os dados"
      ]
    },
    {
      "cell_type": "code",
      "metadata": {
        "colab": {
          "base_uri": "https://localhost:8080/"
        },
        "id": "okih8GzP4v-P",
        "outputId": "6b6e999f-f225-40fc-a888-5945b5124031"
      },
      "source": [
        "dataFrame.info()"
      ],
      "execution_count": 34,
      "outputs": [
        {
          "output_type": "stream",
          "text": [
            "<class 'pandas.core.frame.DataFrame'>\n",
            "RangeIndex: 506 entries, 0 to 505\n",
            "Data columns (total 14 columns):\n",
            " #   Column   Non-Null Count  Dtype  \n",
            "---  ------   --------------  -----  \n",
            " 0   CRIM     506 non-null    float64\n",
            " 1   ZN       506 non-null    float64\n",
            " 2   INDUS    506 non-null    float64\n",
            " 3   CHAS     506 non-null    float64\n",
            " 4   NOX      506 non-null    float64\n",
            " 5   RM       506 non-null    float64\n",
            " 6   AGE      506 non-null    float64\n",
            " 7   DIS      506 non-null    float64\n",
            " 8   RAD      506 non-null    float64\n",
            " 9   TAX      506 non-null    float64\n",
            " 10  PTRATIO  506 non-null    float64\n",
            " 11  B        506 non-null    float64\n",
            " 12  LSTAT    506 non-null    float64\n",
            " 13  PRICE    506 non-null    float64\n",
            "dtypes: float64(14)\n",
            "memory usage: 55.5 KB\n"
          ],
          "name": "stdout"
        }
      ]
    },
    {
      "cell_type": "code",
      "metadata": {
        "colab": {
          "base_uri": "https://localhost:8080/",
          "height": 297
        },
        "id": "6W4IMecY5FwI",
        "outputId": "e8ad7945-ec5e-41dc-f0a7-98e3b04a200c"
      },
      "source": [
        "dataFrame.describe() #aqui temos algumas medidas resumo sobre o conjunto de dados"
      ],
      "execution_count": 35,
      "outputs": [
        {
          "output_type": "execute_result",
          "data": {
            "text/html": [
              "<div>\n",
              "<style scoped>\n",
              "    .dataframe tbody tr th:only-of-type {\n",
              "        vertical-align: middle;\n",
              "    }\n",
              "\n",
              "    .dataframe tbody tr th {\n",
              "        vertical-align: top;\n",
              "    }\n",
              "\n",
              "    .dataframe thead th {\n",
              "        text-align: right;\n",
              "    }\n",
              "</style>\n",
              "<table border=\"1\" class=\"dataframe\">\n",
              "  <thead>\n",
              "    <tr style=\"text-align: right;\">\n",
              "      <th></th>\n",
              "      <th>CRIM</th>\n",
              "      <th>ZN</th>\n",
              "      <th>INDUS</th>\n",
              "      <th>CHAS</th>\n",
              "      <th>NOX</th>\n",
              "      <th>RM</th>\n",
              "      <th>AGE</th>\n",
              "      <th>DIS</th>\n",
              "      <th>RAD</th>\n",
              "      <th>TAX</th>\n",
              "      <th>PTRATIO</th>\n",
              "      <th>B</th>\n",
              "      <th>LSTAT</th>\n",
              "      <th>PRICE</th>\n",
              "    </tr>\n",
              "  </thead>\n",
              "  <tbody>\n",
              "    <tr>\n",
              "      <th>count</th>\n",
              "      <td>506.000000</td>\n",
              "      <td>506.000000</td>\n",
              "      <td>506.000000</td>\n",
              "      <td>506.000000</td>\n",
              "      <td>506.000000</td>\n",
              "      <td>506.000000</td>\n",
              "      <td>506.000000</td>\n",
              "      <td>506.000000</td>\n",
              "      <td>506.000000</td>\n",
              "      <td>506.000000</td>\n",
              "      <td>506.000000</td>\n",
              "      <td>506.000000</td>\n",
              "      <td>506.000000</td>\n",
              "      <td>506.000000</td>\n",
              "    </tr>\n",
              "    <tr>\n",
              "      <th>mean</th>\n",
              "      <td>3.613524</td>\n",
              "      <td>11.363636</td>\n",
              "      <td>11.136779</td>\n",
              "      <td>0.069170</td>\n",
              "      <td>0.554695</td>\n",
              "      <td>6.284634</td>\n",
              "      <td>68.574901</td>\n",
              "      <td>3.795043</td>\n",
              "      <td>9.549407</td>\n",
              "      <td>408.237154</td>\n",
              "      <td>18.455534</td>\n",
              "      <td>356.674032</td>\n",
              "      <td>12.653063</td>\n",
              "      <td>22.532806</td>\n",
              "    </tr>\n",
              "    <tr>\n",
              "      <th>std</th>\n",
              "      <td>8.601545</td>\n",
              "      <td>23.322453</td>\n",
              "      <td>6.860353</td>\n",
              "      <td>0.253994</td>\n",
              "      <td>0.115878</td>\n",
              "      <td>0.702617</td>\n",
              "      <td>28.148861</td>\n",
              "      <td>2.105710</td>\n",
              "      <td>8.707259</td>\n",
              "      <td>168.537116</td>\n",
              "      <td>2.164946</td>\n",
              "      <td>91.294864</td>\n",
              "      <td>7.141062</td>\n",
              "      <td>9.197104</td>\n",
              "    </tr>\n",
              "    <tr>\n",
              "      <th>min</th>\n",
              "      <td>0.006320</td>\n",
              "      <td>0.000000</td>\n",
              "      <td>0.460000</td>\n",
              "      <td>0.000000</td>\n",
              "      <td>0.385000</td>\n",
              "      <td>3.561000</td>\n",
              "      <td>2.900000</td>\n",
              "      <td>1.129600</td>\n",
              "      <td>1.000000</td>\n",
              "      <td>187.000000</td>\n",
              "      <td>12.600000</td>\n",
              "      <td>0.320000</td>\n",
              "      <td>1.730000</td>\n",
              "      <td>5.000000</td>\n",
              "    </tr>\n",
              "    <tr>\n",
              "      <th>25%</th>\n",
              "      <td>0.082045</td>\n",
              "      <td>0.000000</td>\n",
              "      <td>5.190000</td>\n",
              "      <td>0.000000</td>\n",
              "      <td>0.449000</td>\n",
              "      <td>5.885500</td>\n",
              "      <td>45.025000</td>\n",
              "      <td>2.100175</td>\n",
              "      <td>4.000000</td>\n",
              "      <td>279.000000</td>\n",
              "      <td>17.400000</td>\n",
              "      <td>375.377500</td>\n",
              "      <td>6.950000</td>\n",
              "      <td>17.025000</td>\n",
              "    </tr>\n",
              "    <tr>\n",
              "      <th>50%</th>\n",
              "      <td>0.256510</td>\n",
              "      <td>0.000000</td>\n",
              "      <td>9.690000</td>\n",
              "      <td>0.000000</td>\n",
              "      <td>0.538000</td>\n",
              "      <td>6.208500</td>\n",
              "      <td>77.500000</td>\n",
              "      <td>3.207450</td>\n",
              "      <td>5.000000</td>\n",
              "      <td>330.000000</td>\n",
              "      <td>19.050000</td>\n",
              "      <td>391.440000</td>\n",
              "      <td>11.360000</td>\n",
              "      <td>21.200000</td>\n",
              "    </tr>\n",
              "    <tr>\n",
              "      <th>75%</th>\n",
              "      <td>3.677083</td>\n",
              "      <td>12.500000</td>\n",
              "      <td>18.100000</td>\n",
              "      <td>0.000000</td>\n",
              "      <td>0.624000</td>\n",
              "      <td>6.623500</td>\n",
              "      <td>94.075000</td>\n",
              "      <td>5.188425</td>\n",
              "      <td>24.000000</td>\n",
              "      <td>666.000000</td>\n",
              "      <td>20.200000</td>\n",
              "      <td>396.225000</td>\n",
              "      <td>16.955000</td>\n",
              "      <td>25.000000</td>\n",
              "    </tr>\n",
              "    <tr>\n",
              "      <th>max</th>\n",
              "      <td>88.976200</td>\n",
              "      <td>100.000000</td>\n",
              "      <td>27.740000</td>\n",
              "      <td>1.000000</td>\n",
              "      <td>0.871000</td>\n",
              "      <td>8.780000</td>\n",
              "      <td>100.000000</td>\n",
              "      <td>12.126500</td>\n",
              "      <td>24.000000</td>\n",
              "      <td>711.000000</td>\n",
              "      <td>22.000000</td>\n",
              "      <td>396.900000</td>\n",
              "      <td>37.970000</td>\n",
              "      <td>50.000000</td>\n",
              "    </tr>\n",
              "  </tbody>\n",
              "</table>\n",
              "</div>"
            ],
            "text/plain": [
              "             CRIM          ZN       INDUS  ...           B       LSTAT       PRICE\n",
              "count  506.000000  506.000000  506.000000  ...  506.000000  506.000000  506.000000\n",
              "mean     3.613524   11.363636   11.136779  ...  356.674032   12.653063   22.532806\n",
              "std      8.601545   23.322453    6.860353  ...   91.294864    7.141062    9.197104\n",
              "min      0.006320    0.000000    0.460000  ...    0.320000    1.730000    5.000000\n",
              "25%      0.082045    0.000000    5.190000  ...  375.377500    6.950000   17.025000\n",
              "50%      0.256510    0.000000    9.690000  ...  391.440000   11.360000   21.200000\n",
              "75%      3.677083   12.500000   18.100000  ...  396.225000   16.955000   25.000000\n",
              "max     88.976200  100.000000   27.740000  ...  396.900000   37.970000   50.000000\n",
              "\n",
              "[8 rows x 14 columns]"
            ]
          },
          "metadata": {
            "tags": []
          },
          "execution_count": 35
        }
      ]
    },
    {
      "cell_type": "markdown",
      "metadata": {
        "id": "C6dL1jsq5Wjd"
      },
      "source": [
        "Alguns histogramas"
      ]
    },
    {
      "cell_type": "code",
      "metadata": {
        "colab": {
          "base_uri": "https://localhost:8080/",
          "height": 719
        },
        "id": "Gw6dVNYo5X_D",
        "outputId": "ff41c985-e84f-4d07-aca3-c8810f3c4a8b"
      },
      "source": [
        "%matplotlib inline\r\n",
        "import matplotlib.pyplot as plt\r\n",
        "dataFrame.hist(figsize=(12,12))\r\n",
        "plt.show()"
      ],
      "execution_count": 95,
      "outputs": [
        {
          "output_type": "display_data",
          "data": {
            "image/png": "[encoded data removed]",
            "text/plain": [
              "<Figure size 864x864 with 16 Axes>"
            ]
          },
          "metadata": {
            "tags": [],
            "needs_background": "light"
          }
        }
      ]
    },
    {
      "cell_type": "markdown",
      "metadata": {
        "id": "z9nLuhoe6b7j"
      },
      "source": [
        "Para fazer a separação do conjunto de dados, vamos testar dois tipos de amostragem: a aleatória e a estratificada."
      ]
    },
    {
      "cell_type": "code",
      "metadata": {
        "id": "5wkjU2f57Pdp"
      },
      "source": [
        "from sklearn.model_selection import train_test_split\r\n",
        "\r\n",
        "train_set, test_set = train_test_split(dataFrame, \r\n",
        "                                       test_size=0.3, #30% para teste\r\n",
        "                                       random_state=seed)"
      ],
      "execution_count": 37,
      "outputs": []
    },
    {
      "cell_type": "markdown",
      "metadata": {
        "id": "x6gCf6kL7Wim"
      },
      "source": [
        "Essa é a divisão aleatória! \r\n",
        "Vamos ver as medidas resumo para o número de quartos por habitação (RM)"
      ]
    },
    {
      "cell_type": "code",
      "metadata": {
        "colab": {
          "base_uri": "https://localhost:8080/"
        },
        "id": "QrsQvuyE8EC8",
        "outputId": "4327b703-6239-4c39-cbe6-ddb37905432a"
      },
      "source": [
        "dataFrame[\"RM\"].describe()"
      ],
      "execution_count": 38,
      "outputs": [
        {
          "output_type": "execute_result",
          "data": {
            "text/plain": [
              "count    506.000000\n",
              "mean       6.284634\n",
              "std        0.702617\n",
              "min        3.561000\n",
              "25%        5.885500\n",
              "50%        6.208500\n",
              "75%        6.623500\n",
              "max        8.780000\n",
              "Name: RM, dtype: float64"
            ]
          },
          "metadata": {
            "tags": []
          },
          "execution_count": 38
        }
      ]
    },
    {
      "cell_type": "code",
      "metadata": {
        "id": "eZo_v9ym84QE"
      },
      "source": [
        "mean = np.mean(dataFrame[\"RM\"])\r\n",
        "std = np.std(dataFrame[\"RM\"])"
      ],
      "execution_count": 39,
      "outputs": []
    },
    {
      "cell_type": "markdown",
      "metadata": {
        "id": "IqPjML5k9gCg"
      },
      "source": [
        "Já que queremos comparar com uma amostra estratificada, vamos dividir o número de quartos em 5 estratos, de 1 em 1 quartos. (Escolha facilitadora.) -> **feature engineering**."
      ]
    },
    {
      "cell_type": "code",
      "metadata": {
        "colab": {
          "base_uri": "https://localhost:8080/",
          "height": 285
        },
        "id": "yL4_pXrX91Xm",
        "outputId": "8cb39529-aaa6-4857-af60-82dc4f4ecb40"
      },
      "source": [
        "dataFrame[\"rooms\"] = pd.cut(dataFrame[\"RM\"],\r\n",
        "                               bins=[3, 4, 5, 6., np.inf],\r\n",
        "                               labels=[1, 2, 3, 4])\r\n",
        "\r\n",
        "dataFrame[\"rooms\"].hist()"
      ],
      "execution_count": 71,
      "outputs": [
        {
          "output_type": "execute_result",
          "data": {
            "text/plain": [
              "<matplotlib.axes._subplots.AxesSubplot at 0x7f21de90a588>"
            ]
          },
          "metadata": {
            "tags": []
          },
          "execution_count": 71
        },
        {
          "output_type": "display_data",
          "data": {
            "image/png": "[encoded data removed]",
            "text/plain": [
              "<Figure size 432x288 with 1 Axes>"
            ]
          },
          "metadata": {
            "tags": [],
            "needs_background": "light"
          }
        }
      ]
    },
    {
      "cell_type": "code",
      "metadata": {
        "colab": {
          "base_uri": "https://localhost:8080/"
        },
        "id": "J-9nAv3K-eyB",
        "outputId": "546fc838-75b6-4b22-eb1d-7c6cf318b559"
      },
      "source": [
        "dataFrame[\"rooms\"].value_counts()"
      ],
      "execution_count": 72,
      "outputs": [
        {
          "output_type": "execute_result",
          "data": {
            "text/plain": [
              "4    333\n",
              "3    157\n",
              "2     14\n",
              "1      2\n",
              "Name: rooms, dtype: int64"
            ]
          },
          "metadata": {
            "tags": []
          },
          "execution_count": 72
        }
      ]
    },
    {
      "cell_type": "markdown",
      "metadata": {
        "id": "5MAaSMio-nK7"
      },
      "source": [
        "Agora vamos fazer a amostra estratificada."
      ]
    },
    {
      "cell_type": "code",
      "metadata": {
        "id": "4SAgfqwm-mrM"
      },
      "source": [
        "from sklearn.model_selection import StratifiedShuffleSplit\r\n",
        "\r\n",
        "split = StratifiedShuffleSplit(n_splits=1, test_size=0.3, random_state=seed)\r\n",
        "\r\n",
        "for train_index, test_index in split.split(dataFrame, dataFrame[\"rooms\"]):\r\n",
        "    strat_train_set = dataFrame.loc[train_index]\r\n",
        "    strat_test_set = dataFrame.loc[test_index]"
      ],
      "execution_count": 73,
      "outputs": []
    },
    {
      "cell_type": "markdown",
      "metadata": {
        "id": "qZbEwurY-1j8"
      },
      "source": [
        "Vamos ver se funcionou:"
      ]
    },
    {
      "cell_type": "code",
      "metadata": {
        "colab": {
          "base_uri": "https://localhost:8080/"
        },
        "id": "bWx_8KYT-3V7",
        "outputId": "50ab45ae-bf95-4f78-c7fb-c764f390e229"
      },
      "source": [
        "strat_test_set[\"rooms\"].value_counts() / len(strat_test_set) #Proporção de cada categoria em strat_test_set"
      ],
      "execution_count": 74,
      "outputs": [
        {
          "output_type": "execute_result",
          "data": {
            "text/plain": [
              "4    0.657895\n",
              "3    0.309211\n",
              "2    0.026316\n",
              "1    0.006579\n",
              "Name: rooms, dtype: float64"
            ]
          },
          "metadata": {
            "tags": []
          },
          "execution_count": 74
        }
      ]
    },
    {
      "cell_type": "code",
      "metadata": {
        "colab": {
          "base_uri": "https://localhost:8080/"
        },
        "id": "8zfM2AUv-9rm",
        "outputId": "d2de15e0-39f2-48b7-dfa8-812d0b01ad82"
      },
      "source": [
        "dataFrame[\"rooms\"].value_counts() / len(dataFrame) #Proporção de cada categoria no dataFrame"
      ],
      "execution_count": 75,
      "outputs": [
        {
          "output_type": "execute_result",
          "data": {
            "text/plain": [
              "4    0.658103\n",
              "3    0.310277\n",
              "2    0.027668\n",
              "1    0.003953\n",
              "Name: rooms, dtype: float64"
            ]
          },
          "metadata": {
            "tags": []
          },
          "execution_count": 75
        }
      ]
    },
    {
      "cell_type": "markdown",
      "metadata": {
        "id": "zrWcZdI0_Ff8"
      },
      "source": [
        "Agora vamos comparar com a amostragem aleatória!!"
      ]
    },
    {
      "cell_type": "code",
      "metadata": {
        "id": "-wuOiCxi_IUU"
      },
      "source": [
        "#Função para calcular as proporções das categorias da característica \"rooms\"\r\n",
        "def rooms_proportions(data): \r\n",
        "    return data[\"rooms\"].value_counts() / len(data)"
      ],
      "execution_count": 76,
      "outputs": []
    },
    {
      "cell_type": "markdown",
      "metadata": {
        "id": "3iy8VWYJ_ROG"
      },
      "source": [
        "Gerando o conjunto de teste e treino, usando amostragem aleatória:\r\n"
      ]
    },
    {
      "cell_type": "code",
      "metadata": {
        "id": "bCwkVVGuBJLG"
      },
      "source": [
        "train_set, test_set = train_test_split(dataFrame, test_size=0.3, random_state=seed)"
      ],
      "execution_count": 77,
      "outputs": []
    },
    {
      "cell_type": "markdown",
      "metadata": {
        "id": "1tZjkpyQBLdm"
      },
      "source": [
        "Criamos entao uma nova tabela de dados para visualizar os resultados"
      ]
    },
    {
      "cell_type": "code",
      "metadata": {
        "colab": {
          "base_uri": "https://localhost:8080/",
          "height": 173
        },
        "id": "mu1HeCH7BQ6e",
        "outputId": "676372e1-0a88-484a-e963-822d9f7a242a"
      },
      "source": [
        "compare_props = pd.DataFrame({\r\n",
        "    \"Geral\": rooms_proportions(dataFrame),\r\n",
        "    \"Estratificado\": rooms_proportions(strat_test_set),\r\n",
        "    \"Aleatorio\": rooms_proportions(test_set),\r\n",
        "}).sort_index()\r\n",
        "\r\n",
        "compare_props[\"Aleatório %erro\"] = 100 * compare_props[\"Aleatorio\"] / compare_props[\"Geral\"] - 100\r\n",
        "compare_props[\"Estratificado %erro\"] = 100 * compare_props[\"Estratificado\"] / compare_props[\"Geral\"] - 100\r\n",
        "\r\n",
        "compare_props"
      ],
      "execution_count": 79,
      "outputs": [
        {
          "output_type": "execute_result",
          "data": {
            "text/html": [
              "<div>\n",
              "<style scoped>\n",
              "    .dataframe tbody tr th:only-of-type {\n",
              "        vertical-align: middle;\n",
              "    }\n",
              "\n",
              "    .dataframe tbody tr th {\n",
              "        vertical-align: top;\n",
              "    }\n",
              "\n",
              "    .dataframe thead th {\n",
              "        text-align: right;\n",
              "    }\n",
              "</style>\n",
              "<table border=\"1\" class=\"dataframe\">\n",
              "  <thead>\n",
              "    <tr style=\"text-align: right;\">\n",
              "      <th></th>\n",
              "      <th>Geral</th>\n",
              "      <th>Estratificado</th>\n",
              "      <th>Aleatorio</th>\n",
              "      <th>Aleatório %erro</th>\n",
              "      <th>Estratificado %erro</th>\n",
              "    </tr>\n",
              "  </thead>\n",
              "  <tbody>\n",
              "    <tr>\n",
              "      <th>1</th>\n",
              "      <td>0.003953</td>\n",
              "      <td>0.006579</td>\n",
              "      <td>0.000000</td>\n",
              "      <td>-100.000000</td>\n",
              "      <td>66.447368</td>\n",
              "    </tr>\n",
              "    <tr>\n",
              "      <th>2</th>\n",
              "      <td>0.027668</td>\n",
              "      <td>0.026316</td>\n",
              "      <td>0.006579</td>\n",
              "      <td>-76.221805</td>\n",
              "      <td>-4.887218</td>\n",
              "    </tr>\n",
              "    <tr>\n",
              "      <th>3</th>\n",
              "      <td>0.310277</td>\n",
              "      <td>0.309211</td>\n",
              "      <td>0.328947</td>\n",
              "      <td>6.017432</td>\n",
              "      <td>-0.343614</td>\n",
              "    </tr>\n",
              "    <tr>\n",
              "      <th>4</th>\n",
              "      <td>0.658103</td>\n",
              "      <td>0.657895</td>\n",
              "      <td>0.664474</td>\n",
              "      <td>0.968073</td>\n",
              "      <td>-0.031611</td>\n",
              "    </tr>\n",
              "  </tbody>\n",
              "</table>\n",
              "</div>"
            ],
            "text/plain": [
              "      Geral  Estratificado  Aleatorio  Aleatório %erro  Estratificado %erro\n",
              "1  0.003953       0.006579   0.000000      -100.000000            66.447368\n",
              "2  0.027668       0.026316   0.006579       -76.221805            -4.887218\n",
              "3  0.310277       0.309211   0.328947         6.017432            -0.343614\n",
              "4  0.658103       0.657895   0.664474         0.968073            -0.031611"
            ]
          },
          "metadata": {
            "tags": []
          },
          "execution_count": 79
        }
      ]
    },
    {
      "cell_type": "markdown",
      "metadata": {
        "id": "pM1ck_hwBghJ"
      },
      "source": [
        "Escolhendo a amostragem estratificada, precisamos ainda remover o atributo \"rooms\" dos conjuntos de dados que serão utilizados!"
      ]
    },
    {
      "cell_type": "code",
      "metadata": {
        "id": "rvUhYn1NBtph"
      },
      "source": [
        "for set_ in (strat_train_set, strat_test_set):\r\n",
        "    set_.drop(\"rooms\", axis=1, inplace=True)"
      ],
      "execution_count": 80,
      "outputs": []
    },
    {
      "cell_type": "code",
      "metadata": {
        "id": "GimknUu9Nv7H"
      },
      "source": [
        "dataFrame = strat_train_set.copy() #Importante criar uma cópia! "
      ],
      "execution_count": 109,
      "outputs": []
    },
    {
      "cell_type": "markdown",
      "metadata": {
        "id": "qb7FgB-OBxhy"
      },
      "source": [
        "Vamos visualizar a correlação entre os dados e o preço (target)!"
      ]
    },
    {
      "cell_type": "code",
      "metadata": {
        "colab": {
          "base_uri": "https://localhost:8080/",
          "height": 399
        },
        "id": "mPG_2-rDCD_i",
        "outputId": "328c0df9-886a-4166-b482-c69fc88d4cdf"
      },
      "source": [
        "plt.figure(figsize=(12,6))\r\n",
        "sns.heatmap(dataFrame.corr(), annot=True)"
      ],
      "execution_count": 110,
      "outputs": [
        {
          "output_type": "execute_result",
          "data": {
            "text/plain": [
              "<matplotlib.axes._subplots.AxesSubplot at 0x7f21de4a5b38>"
            ]
          },
          "metadata": {
            "tags": []
          },
          "execution_count": 110
        },
        {
          "output_type": "display_data",
          "data": {
            "image/png": "[encoded data removed]",
            "text/plain": [
              "<Figure size 864x432 with 2 Axes>"
            ]
          },
          "metadata": {
            "tags": [],
            "needs_background": "light"
          }
        }
      ]
    },
    {
      "cell_type": "markdown",
      "metadata": {
        "id": "R1p0UFe3FVNW"
      },
      "source": [
        "Agora vamos analisar se os dados para os algoritmos de ML precisam ser pré-processados e preparados. Como já vimos antes, todos os dados são numéricos, porém é importante também checar se não existem valores nulos! Vamos fazer isto então.\r\n",
        "\r\n",
        "\r\n"
      ]
    },
    {
      "cell_type": "code",
      "metadata": {
        "colab": {
          "base_uri": "https://localhost:8080/"
        },
        "id": "twJOZkLWHu13",
        "outputId": "3f815e8c-d42f-4b27-c1c9-9f9323884762"
      },
      "source": [
        "dataFrame.isnull().sum()"
      ],
      "execution_count": 97,
      "outputs": [
        {
          "output_type": "execute_result",
          "data": {
            "text/plain": [
              "CRIM       0\n",
              "ZN         0\n",
              "INDUS      0\n",
              "CHAS       0\n",
              "NOX        0\n",
              "RM         0\n",
              "AGE        0\n",
              "DIS        0\n",
              "RAD        0\n",
              "TAX        0\n",
              "PTRATIO    0\n",
              "B          0\n",
              "LSTAT      0\n",
              "PRICE      0\n",
              "dtype: int64"
            ]
          },
          "metadata": {
            "tags": []
          },
          "execution_count": 97
        }
      ]
    },
    {
      "cell_type": "markdown",
      "metadata": {
        "id": "WUDeQs7WH5rs"
      },
      "source": [
        "Com essa análise é possível constatar que não existem valores nulos em nosso dados! Como não colocamos nenhuma feature nova, não foi necessário remover valores nulos (e alterá-los), vamos direto selecionar três modelos (kNN para regressão, Regressão Linear e Random Forest) e treiná-los.\r\n",
        "\r\n",
        "Para compará-los vamos usar o MSE."
      ]
    },
    {
      "cell_type": "code",
      "metadata": {
        "id": "8WNCYn4zMdmx"
      },
      "source": [
        "from sklearn.metrics import mean_squared_error as MSE\r\n",
        "\r\n",
        "#Dicionário de resultados\r\n",
        "dic = {}\r\n",
        "\r\n",
        "boston = strat_train_set.drop('PRICE', axis = 1)\r\n",
        "boston_labels = strat_train_set[\"PRICE\"].copy()"
      ],
      "execution_count": 135,
      "outputs": []
    },
    {
      "cell_type": "code",
      "metadata": {
        "id": "achuMcXcMegs"
      },
      "source": [
        "#treinando o kNN\r\n",
        "from sklearn import neighbors\r\n",
        "\r\n",
        "n_neighbors = 5\r\n",
        "\r\n",
        "for i, weights in enumerate(['uniform', 'distance']):\r\n",
        "    knn = neighbors.KNeighborsRegressor(n_neighbors, weights=weights)\r\n",
        "    knn.fit(boston, boston_labels)"
      ],
      "execution_count": 139,
      "outputs": []
    },
    {
      "cell_type": "code",
      "metadata": {
        "id": "n7UJwDBWM2jQ"
      },
      "source": [
        "# Avaliando o kNN e anotando no dicionário\r\n",
        "\r\n",
        "knn_predictions = knn.predict(boston)\r\n",
        "knn_mse = MSE(boston_labels, knn_predictions)\r\n",
        "knn_rmse = np.sqrt(knn_mse) #Não é necessariamente obrigatório\r\n",
        "\r\n",
        "dic[\"kNN_reg\"] =  knn_rmse"
      ],
      "execution_count": 140,
      "outputs": []
    },
    {
      "cell_type": "code",
      "metadata": {
        "colab": {
          "base_uri": "https://localhost:8080/"
        },
        "id": "Mrj5JSTzIS_R",
        "outputId": "4d9db2fc-7017-4678-9387-d6261e457063"
      },
      "source": [
        "#treinando a regressão linear\r\n",
        "from sklearn.linear_model import LinearRegression\r\n",
        "\r\n",
        "lin_reg = LinearRegression()\r\n",
        "lin_reg.fit(boston, boston_labels) "
      ],
      "execution_count": 141,
      "outputs": [
        {
          "output_type": "execute_result",
          "data": {
            "text/plain": [
              "LinearRegression(copy_X=True, fit_intercept=True, n_jobs=None, normalize=False)"
            ]
          },
          "metadata": {
            "tags": []
          },
          "execution_count": 141
        }
      ]
    },
    {
      "cell_type": "code",
      "metadata": {
        "id": "fmeX9lVUKnNQ"
      },
      "source": [
        "# Avaliando a RL e anotando no dicionário\r\n",
        "\r\n",
        "lin_predictions = lin_reg.predict(boston)\r\n",
        "lin_mse = MSE(boston_labels, lin_predictions)\r\n",
        "lin_rmse = np.sqrt(lin_mse) #Não é necessariamente obrigatório\r\n",
        "\r\n",
        "dic[\"lin_reg\"] =  lin_rmse"
      ],
      "execution_count": 142,
      "outputs": []
    },
    {
      "cell_type": "code",
      "metadata": {
        "colab": {
          "base_uri": "https://localhost:8080/"
        },
        "id": "NeqMZ3bhTR3A",
        "outputId": "e4f46219-1c10-4721-d966-388aabc27b71"
      },
      "source": [
        "from sklearn.ensemble import RandomForestRegressor\r\n",
        "\r\n",
        "forest_reg = RandomForestRegressor(n_estimators=10, random_state=seed)\r\n",
        "forest_reg.fit(boston, boston_labels) #Treinar modelo"
      ],
      "execution_count": 143,
      "outputs": [
        {
          "output_type": "execute_result",
          "data": {
            "text/plain": [
              "RandomForestRegressor(bootstrap=True, ccp_alpha=0.0, criterion='mse',\n",
              "                      max_depth=None, max_features='auto', max_leaf_nodes=None,\n",
              "                      max_samples=None, min_impurity_decrease=0.0,\n",
              "                      min_impurity_split=None, min_samples_leaf=1,\n",
              "                      min_samples_split=2, min_weight_fraction_leaf=0.0,\n",
              "                      n_estimators=10, n_jobs=None, oob_score=False,\n",
              "                      random_state=72, verbose=0, warm_start=False)"
            ]
          },
          "metadata": {
            "tags": []
          },
          "execution_count": 143
        }
      ]
    },
    {
      "cell_type": "code",
      "metadata": {
        "id": "L-Zmmu2vTXWS"
      },
      "source": [
        "# Avaliando a DT e anotando no dicionário\r\n",
        "\r\n",
        "forest_predictions = forest_reg.predict(boston) #Predizer\r\n",
        "forest_mse = MSE(boston_labels, forest_predictions)\r\n",
        "forest_rmse = np.sqrt(forest_mse)\r\n",
        "\r\n",
        "dic[\"forest_reg\"] = forest_rmse"
      ],
      "execution_count": 144,
      "outputs": []
    },
    {
      "cell_type": "markdown",
      "metadata": {
        "id": "YCInytQHUIN7"
      },
      "source": [
        "Avaliando os modelos"
      ]
    },
    {
      "cell_type": "code",
      "metadata": {
        "id": "SWdOO1GQUGWf"
      },
      "source": [
        "validation = pd.Series(dic, name=\"MSE\")"
      ],
      "execution_count": 145,
      "outputs": []
    },
    {
      "cell_type": "code",
      "metadata": {
        "colab": {
          "base_uri": "https://localhost:8080/"
        },
        "id": "vHENfQ8jULaG",
        "outputId": "4dc5fd85-e097-43ed-b221-2edcb6531924"
      },
      "source": [
        "validation"
      ],
      "execution_count": 146,
      "outputs": [
        {
          "output_type": "execute_result",
          "data": {
            "text/plain": [
              "kNN_reg       0.000000\n",
              "lin_reg       4.917597\n",
              "forest_reg    1.413381\n",
              "Name: MSE, dtype: float64"
            ]
          },
          "metadata": {
            "tags": []
          },
          "execution_count": 146
        }
      ]
    },
    {
      "cell_type": "markdown",
      "metadata": {
        "id": "v1iSqaOyYRgX"
      },
      "source": [
        "Avaliação dos modelos"
      ]
    },
    {
      "cell_type": "markdown",
      "metadata": {
        "id": "ZsL4g4CGUScZ"
      },
      "source": [
        "Definido que o melhor modelo é o Random Forest (erro zero é sinal de overfiting), vamos treinar o modelo final"
      ]
    },
    {
      "cell_type": "code",
      "metadata": {
        "colab": {
          "base_uri": "https://localhost:8080/"
        },
        "id": "79jsSm6RXo7Q",
        "outputId": "4b25816a-c07f-4ced-e141-c71f59aa8fbc"
      },
      "source": [
        "from sklearn.model_selection import GridSearchCV\r\n",
        "\r\n",
        "param_grid = [\r\n",
        "    # Vamos tentar 12 = 3x4 combinação de parâmetros\r\n",
        "    {'n_estimators': [3, 10, 30], 'max_features': [2, 4, 6, 8]},\r\n",
        "    # Tentar 6 = 2×3 combinações do bootstrap no modo 'Falso'\r\n",
        "    {'bootstrap': [False], 'n_estimators': [3, 10], 'max_features': [2, 3, 4]},\r\n",
        "  ]\r\n",
        "\r\n",
        "forest_reg = RandomForestRegressor(random_state=seed)\r\n",
        "\r\n",
        "# Vamos treinar com 5-folds, então temos (12+6)*5=90 rodadas de treinamento!!!\r\n",
        "\r\n",
        "grid_search = GridSearchCV(forest_reg, param_grid, cv=5,\r\n",
        "                           scoring='neg_mean_squared_error',\r\n",
        "                           return_train_score=True)\r\n",
        "\r\n",
        "grid_search.fit(boston, boston_labels)"
      ],
      "execution_count": 149,
      "outputs": [
        {
          "output_type": "execute_result",
          "data": {
            "text/plain": [
              "GridSearchCV(cv=5, error_score=nan,\n",
              "             estimator=RandomForestRegressor(bootstrap=True, ccp_alpha=0.0,\n",
              "                                             criterion='mse', max_depth=None,\n",
              "                                             max_features='auto',\n",
              "                                             max_leaf_nodes=None,\n",
              "                                             max_samples=None,\n",
              "                                             min_impurity_decrease=0.0,\n",
              "                                             min_impurity_split=None,\n",
              "                                             min_samples_leaf=1,\n",
              "                                             min_samples_split=2,\n",
              "                                             min_weight_fraction_leaf=0.0,\n",
              "                                             n_estimators=100, n_jobs=None,\n",
              "                                             oob_score=False, random_state=72,\n",
              "                                             verbose=0, warm_start=False),\n",
              "             iid='deprecated', n_jobs=None,\n",
              "             param_grid=[{'max_features': [2, 4, 6, 8],\n",
              "                          'n_estimators': [3, 10, 30]},\n",
              "                         {'bootstrap': [False], 'max_features': [2, 3, 4],\n",
              "                          'n_estimators': [3, 10]}],\n",
              "             pre_dispatch='2*n_jobs', refit=True, return_train_score=True,\n",
              "             scoring='neg_mean_squared_error', verbose=0)"
            ]
          },
          "metadata": {
            "tags": []
          },
          "execution_count": 149
        }
      ]
    },
    {
      "cell_type": "markdown",
      "metadata": {
        "id": "I0wypgl-YhDC"
      },
      "source": [
        "A melhor combinação de parâmetros encontrada:"
      ]
    },
    {
      "cell_type": "code",
      "metadata": {
        "colab": {
          "base_uri": "https://localhost:8080/"
        },
        "id": "6Dy7_5iTYfec",
        "outputId": "2db896aa-1b8e-43c7-8844-e05787a30846"
      },
      "source": [
        "grid_search.best_params_"
      ],
      "execution_count": 151,
      "outputs": [
        {
          "output_type": "execute_result",
          "data": {
            "text/plain": [
              "{'max_features': 6, 'n_estimators': 30}"
            ]
          },
          "metadata": {
            "tags": []
          },
          "execution_count": 151
        }
      ]
    },
    {
      "cell_type": "code",
      "metadata": {
        "colab": {
          "base_uri": "https://localhost:8080/"
        },
        "id": "FTsXxwTgYmff",
        "outputId": "e1c2ebc4-e04c-4c73-8bfc-c89ab9f68dd9"
      },
      "source": [
        "grid_search.best_estimator_"
      ],
      "execution_count": 152,
      "outputs": [
        {
          "output_type": "execute_result",
          "data": {
            "text/plain": [
              "RandomForestRegressor(bootstrap=True, ccp_alpha=0.0, criterion='mse',\n",
              "                      max_depth=None, max_features=6, max_leaf_nodes=None,\n",
              "                      max_samples=None, min_impurity_decrease=0.0,\n",
              "                      min_impurity_split=None, min_samples_leaf=1,\n",
              "                      min_samples_split=2, min_weight_fraction_leaf=0.0,\n",
              "                      n_estimators=30, n_jobs=None, oob_score=False,\n",
              "                      random_state=72, verbose=0, warm_start=False)"
            ]
          },
          "metadata": {
            "tags": []
          },
          "execution_count": 152
        }
      ]
    },
    {
      "cell_type": "markdown",
      "metadata": {
        "id": "_mBp-iTFYp8a"
      },
      "source": [
        "Vamos olhar a pontuação de cada hiperparâmetro testado ao longo do gridSearch:"
      ]
    },
    {
      "cell_type": "code",
      "metadata": {
        "colab": {
          "base_uri": "https://localhost:8080/"
        },
        "id": "GwPyxpmGYqnj",
        "outputId": "d0f6a2ee-453b-484c-b71a-65d51e1a4d0a"
      },
      "source": [
        "cvres = grid_search.cv_results_\r\n",
        "for mean_score, params in zip(cvres[\"mean_test_score\"], cvres[\"params\"]):\r\n",
        "    print(np.sqrt(-mean_score), params)"
      ],
      "execution_count": 154,
      "outputs": [
        {
          "output_type": "stream",
          "text": [
            "4.843762831055462 {'max_features': 2, 'n_estimators': 3}\n",
            "4.244664506487623 {'max_features': 2, 'n_estimators': 10}\n",
            "4.168809025091177 {'max_features': 2, 'n_estimators': 30}\n",
            "4.589704265505802 {'max_features': 4, 'n_estimators': 3}\n",
            "3.960784973415472 {'max_features': 4, 'n_estimators': 10}\n",
            "3.8932285099538713 {'max_features': 4, 'n_estimators': 30}\n",
            "4.463831182047525 {'max_features': 6, 'n_estimators': 3}\n",
            "3.764407842199685 {'max_features': 6, 'n_estimators': 10}\n",
            "3.711976336933701 {'max_features': 6, 'n_estimators': 30}\n",
            "4.242332418675807 {'max_features': 8, 'n_estimators': 3}\n",
            "3.8376329391244175 {'max_features': 8, 'n_estimators': 10}\n",
            "3.879332420253211 {'max_features': 8, 'n_estimators': 30}\n",
            "4.960060546604052 {'bootstrap': False, 'max_features': 2, 'n_estimators': 3}\n",
            "4.155739681670505 {'bootstrap': False, 'max_features': 2, 'n_estimators': 10}\n",
            "4.475639450508237 {'bootstrap': False, 'max_features': 3, 'n_estimators': 3}\n",
            "3.914942700857173 {'bootstrap': False, 'max_features': 3, 'n_estimators': 10}\n",
            "4.7684831187906935 {'bootstrap': False, 'max_features': 4, 'n_estimators': 3}\n",
            "3.860811390310241 {'bootstrap': False, 'max_features': 4, 'n_estimators': 10}\n"
          ],
          "name": "stdout"
        }
      ]
    },
    {
      "cell_type": "code",
      "metadata": {
        "colab": {
          "base_uri": "https://localhost:8080/",
          "height": 1000
        },
        "id": "0d14i7ExYzY1",
        "outputId": "cbd71195-aca1-4ecf-e1ce-93310d872bbf"
      },
      "source": [
        "pd.DataFrame(grid_search.cv_results_)"
      ],
      "execution_count": 155,
      "outputs": [
        {
          "output_type": "execute_result",
          "data": {
            "text/html": [
              "<div>\n",
              "<style scoped>\n",
              "    .dataframe tbody tr th:only-of-type {\n",
              "        vertical-align: middle;\n",
              "    }\n",
              "\n",
              "    .dataframe tbody tr th {\n",
              "        vertical-align: top;\n",
              "    }\n",
              "\n",
              "    .dataframe thead th {\n",
              "        text-align: right;\n",
              "    }\n",
              "</style>\n",
              "<table border=\"1\" class=\"dataframe\">\n",
              "  <thead>\n",
              "    <tr style=\"text-align: right;\">\n",
              "      <th></th>\n",
              "      <th>mean_fit_time</th>\n",
              "      <th>std_fit_time</th>\n",
              "      <th>mean_score_time</th>\n",
              "      <th>std_score_time</th>\n",
              "      <th>param_max_features</th>\n",
              "      <th>param_n_estimators</th>\n",
              "      <th>param_bootstrap</th>\n",
              "      <th>params</th>\n",
              "      <th>split0_test_score</th>\n",
              "      <th>split1_test_score</th>\n",
              "      <th>split2_test_score</th>\n",
              "      <th>split3_test_score</th>\n",
              "      <th>split4_test_score</th>\n",
              "      <th>mean_test_score</th>\n",
              "      <th>std_test_score</th>\n",
              "      <th>rank_test_score</th>\n",
              "      <th>split0_train_score</th>\n",
              "      <th>split1_train_score</th>\n",
              "      <th>split2_train_score</th>\n",
              "      <th>split3_train_score</th>\n",
              "      <th>split4_train_score</th>\n",
              "      <th>mean_train_score</th>\n",
              "      <th>std_train_score</th>\n",
              "    </tr>\n",
              "  </thead>\n",
              "  <tbody>\n",
              "    <tr>\n",
              "      <th>0</th>\n",
              "      <td>0.006678</td>\n",
              "      <td>0.001200</td>\n",
              "      <td>0.001459</td>\n",
              "      <td>0.000110</td>\n",
              "      <td>2</td>\n",
              "      <td>3</td>\n",
              "      <td>NaN</td>\n",
              "      <td>{'max_features': 2, 'n_estimators': 3}</td>\n",
              "      <td>-13.248920</td>\n",
              "      <td>-14.130469</td>\n",
              "      <td>-44.505305</td>\n",
              "      <td>-24.629656</td>\n",
              "      <td>-20.795841</td>\n",
              "      <td>-23.462038</td>\n",
              "      <td>11.337345</td>\n",
              "      <td>17</td>\n",
              "      <td>-5.205194e+00</td>\n",
              "      <td>-6.774099e+00</td>\n",
              "      <td>-6.218716e+00</td>\n",
              "      <td>-7.801637e+00</td>\n",
              "      <td>-4.134370e+00</td>\n",
              "      <td>-6.026803e+00</td>\n",
              "      <td>1.265042e+00</td>\n",
              "    </tr>\n",
              "    <tr>\n",
              "      <th>1</th>\n",
              "      <td>0.015398</td>\n",
              "      <td>0.000129</td>\n",
              "      <td>0.002024</td>\n",
              "      <td>0.000058</td>\n",
              "      <td>2</td>\n",
              "      <td>10</td>\n",
              "      <td>NaN</td>\n",
              "      <td>{'max_features': 2, 'n_estimators': 10}</td>\n",
              "      <td>-10.393855</td>\n",
              "      <td>-11.327586</td>\n",
              "      <td>-41.582187</td>\n",
              "      <td>-11.139901</td>\n",
              "      <td>-15.642354</td>\n",
              "      <td>-18.017177</td>\n",
              "      <td>11.925704</td>\n",
              "      <td>12</td>\n",
              "      <td>-2.545436e+00</td>\n",
              "      <td>-3.264535e+00</td>\n",
              "      <td>-3.051038e+00</td>\n",
              "      <td>-3.962227e+00</td>\n",
              "      <td>-3.066600e+00</td>\n",
              "      <td>-3.177967e+00</td>\n",
              "      <td>4.585119e-01</td>\n",
              "    </tr>\n",
              "    <tr>\n",
              "      <th>2</th>\n",
              "      <td>0.042787</td>\n",
              "      <td>0.000803</td>\n",
              "      <td>0.003291</td>\n",
              "      <td>0.000106</td>\n",
              "      <td>2</td>\n",
              "      <td>30</td>\n",
              "      <td>NaN</td>\n",
              "      <td>{'max_features': 2, 'n_estimators': 30}</td>\n",
              "      <td>-9.934758</td>\n",
              "      <td>-9.758164</td>\n",
              "      <td>-34.750006</td>\n",
              "      <td>-10.466187</td>\n",
              "      <td>-21.985729</td>\n",
              "      <td>-17.378969</td>\n",
              "      <td>9.841287</td>\n",
              "      <td>10</td>\n",
              "      <td>-2.361852e+00</td>\n",
              "      <td>-2.577225e+00</td>\n",
              "      <td>-1.931234e+00</td>\n",
              "      <td>-2.514345e+00</td>\n",
              "      <td>-2.546051e+00</td>\n",
              "      <td>-2.386142e+00</td>\n",
              "      <td>2.391865e-01</td>\n",
              "    </tr>\n",
              "    <tr>\n",
              "      <th>3</th>\n",
              "      <td>0.006278</td>\n",
              "      <td>0.000107</td>\n",
              "      <td>0.001351</td>\n",
              "      <td>0.000052</td>\n",
              "      <td>4</td>\n",
              "      <td>3</td>\n",
              "      <td>NaN</td>\n",
              "      <td>{'max_features': 4, 'n_estimators': 3}</td>\n",
              "      <td>-20.328200</td>\n",
              "      <td>-14.689452</td>\n",
              "      <td>-28.802347</td>\n",
              "      <td>-22.485164</td>\n",
              "      <td>-19.021762</td>\n",
              "      <td>-21.065385</td>\n",
              "      <td>4.631387</td>\n",
              "      <td>15</td>\n",
              "      <td>-6.756851e+00</td>\n",
              "      <td>-6.479344e+00</td>\n",
              "      <td>-5.141437e+00</td>\n",
              "      <td>-7.086015e+00</td>\n",
              "      <td>-6.209718e+00</td>\n",
              "      <td>-6.334673e+00</td>\n",
              "      <td>6.637929e-01</td>\n",
              "    </tr>\n",
              "    <tr>\n",
              "      <th>4</th>\n",
              "      <td>0.019366</td>\n",
              "      <td>0.004332</td>\n",
              "      <td>0.002312</td>\n",
              "      <td>0.000592</td>\n",
              "      <td>4</td>\n",
              "      <td>10</td>\n",
              "      <td>NaN</td>\n",
              "      <td>{'max_features': 4, 'n_estimators': 10}</td>\n",
              "      <td>-11.200715</td>\n",
              "      <td>-10.468694</td>\n",
              "      <td>-30.152431</td>\n",
              "      <td>-10.337897</td>\n",
              "      <td>-16.279350</td>\n",
              "      <td>-15.687818</td>\n",
              "      <td>7.557380</td>\n",
              "      <td>8</td>\n",
              "      <td>-2.082168e+00</td>\n",
              "      <td>-2.768333e+00</td>\n",
              "      <td>-2.318195e+00</td>\n",
              "      <td>-3.357678e+00</td>\n",
              "      <td>-3.204077e+00</td>\n",
              "      <td>-2.746090e+00</td>\n",
              "      <td>4.915635e-01</td>\n",
              "    </tr>\n",
              "    <tr>\n",
              "      <th>5</th>\n",
              "      <td>0.049032</td>\n",
              "      <td>0.002345</td>\n",
              "      <td>0.003319</td>\n",
              "      <td>0.000143</td>\n",
              "      <td>4</td>\n",
              "      <td>30</td>\n",
              "      <td>NaN</td>\n",
              "      <td>{'max_features': 4, 'n_estimators': 30}</td>\n",
              "      <td>-10.016696</td>\n",
              "      <td>-7.370151</td>\n",
              "      <td>-33.318054</td>\n",
              "      <td>-8.156785</td>\n",
              "      <td>-16.924455</td>\n",
              "      <td>-15.157228</td>\n",
              "      <td>9.685128</td>\n",
              "      <td>6</td>\n",
              "      <td>-2.005059e+00</td>\n",
              "      <td>-2.262055e+00</td>\n",
              "      <td>-1.522101e+00</td>\n",
              "      <td>-2.119500e+00</td>\n",
              "      <td>-2.273379e+00</td>\n",
              "      <td>-2.036419e+00</td>\n",
              "      <td>2.754889e-01</td>\n",
              "    </tr>\n",
              "    <tr>\n",
              "      <th>6</th>\n",
              "      <td>0.006887</td>\n",
              "      <td>0.000155</td>\n",
              "      <td>0.001328</td>\n",
              "      <td>0.000040</td>\n",
              "      <td>6</td>\n",
              "      <td>3</td>\n",
              "      <td>NaN</td>\n",
              "      <td>{'max_features': 6, 'n_estimators': 3}</td>\n",
              "      <td>-13.273818</td>\n",
              "      <td>-11.247887</td>\n",
              "      <td>-37.537621</td>\n",
              "      <td>-23.693474</td>\n",
              "      <td>-13.876143</td>\n",
              "      <td>-19.925789</td>\n",
              "      <td>9.803316</td>\n",
              "      <td>13</td>\n",
              "      <td>-6.287428e+00</td>\n",
              "      <td>-7.365740e+00</td>\n",
              "      <td>-5.244166e+00</td>\n",
              "      <td>-6.779541e+00</td>\n",
              "      <td>-4.115399e+00</td>\n",
              "      <td>-5.958455e+00</td>\n",
              "      <td>1.154982e+00</td>\n",
              "    </tr>\n",
              "    <tr>\n",
              "      <th>7</th>\n",
              "      <td>0.018446</td>\n",
              "      <td>0.000181</td>\n",
              "      <td>0.001888</td>\n",
              "      <td>0.000011</td>\n",
              "      <td>6</td>\n",
              "      <td>10</td>\n",
              "      <td>NaN</td>\n",
              "      <td>{'max_features': 6, 'n_estimators': 10}</td>\n",
              "      <td>-10.639342</td>\n",
              "      <td>-10.151258</td>\n",
              "      <td>-26.985063</td>\n",
              "      <td>-10.042696</td>\n",
              "      <td>-13.035473</td>\n",
              "      <td>-14.170766</td>\n",
              "      <td>6.498669</td>\n",
              "      <td>2</td>\n",
              "      <td>-2.191394e+00</td>\n",
              "      <td>-3.358426e+00</td>\n",
              "      <td>-2.565411e+00</td>\n",
              "      <td>-3.199198e+00</td>\n",
              "      <td>-2.611379e+00</td>\n",
              "      <td>-2.785161e+00</td>\n",
              "      <td>4.315343e-01</td>\n",
              "    </tr>\n",
              "    <tr>\n",
              "      <th>8</th>\n",
              "      <td>0.053379</td>\n",
              "      <td>0.000604</td>\n",
              "      <td>0.003371</td>\n",
              "      <td>0.000197</td>\n",
              "      <td>6</td>\n",
              "      <td>30</td>\n",
              "      <td>NaN</td>\n",
              "      <td>{'max_features': 6, 'n_estimators': 30}</td>\n",
              "      <td>-10.510070</td>\n",
              "      <td>-9.150201</td>\n",
              "      <td>-28.718999</td>\n",
              "      <td>-7.847771</td>\n",
              "      <td>-12.666800</td>\n",
              "      <td>-13.778768</td>\n",
              "      <td>7.638478</td>\n",
              "      <td>1</td>\n",
              "      <td>-1.937160e+00</td>\n",
              "      <td>-2.275699e+00</td>\n",
              "      <td>-1.558610e+00</td>\n",
              "      <td>-1.874121e+00</td>\n",
              "      <td>-1.884623e+00</td>\n",
              "      <td>-1.906042e+00</td>\n",
              "      <td>2.279480e-01</td>\n",
              "    </tr>\n",
              "    <tr>\n",
              "      <th>9</th>\n",
              "      <td>0.007663</td>\n",
              "      <td>0.000070</td>\n",
              "      <td>0.001494</td>\n",
              "      <td>0.000028</td>\n",
              "      <td>8</td>\n",
              "      <td>3</td>\n",
              "      <td>NaN</td>\n",
              "      <td>{'max_features': 8, 'n_estimators': 3}</td>\n",
              "      <td>-14.626041</td>\n",
              "      <td>-11.291393</td>\n",
              "      <td>-37.559092</td>\n",
              "      <td>-14.154507</td>\n",
              "      <td>-12.355889</td>\n",
              "      <td>-17.997384</td>\n",
              "      <td>9.854855</td>\n",
              "      <td>11</td>\n",
              "      <td>-4.260047e+00</td>\n",
              "      <td>-6.565002e+00</td>\n",
              "      <td>-3.631574e+00</td>\n",
              "      <td>-4.447216e+00</td>\n",
              "      <td>-3.128353e+00</td>\n",
              "      <td>-4.406439e+00</td>\n",
              "      <td>1.176130e+00</td>\n",
              "    </tr>\n",
              "    <tr>\n",
              "      <th>10</th>\n",
              "      <td>0.021168</td>\n",
              "      <td>0.000280</td>\n",
              "      <td>0.002044</td>\n",
              "      <td>0.000030</td>\n",
              "      <td>8</td>\n",
              "      <td>10</td>\n",
              "      <td>NaN</td>\n",
              "      <td>{'max_features': 8, 'n_estimators': 10}</td>\n",
              "      <td>-8.692655</td>\n",
              "      <td>-10.391727</td>\n",
              "      <td>-31.869893</td>\n",
              "      <td>-9.692424</td>\n",
              "      <td>-12.990434</td>\n",
              "      <td>-14.727427</td>\n",
              "      <td>8.688490</td>\n",
              "      <td>3</td>\n",
              "      <td>-1.881194e+00</td>\n",
              "      <td>-3.412370e+00</td>\n",
              "      <td>-2.153055e+00</td>\n",
              "      <td>-2.597263e+00</td>\n",
              "      <td>-2.325526e+00</td>\n",
              "      <td>-2.473882e+00</td>\n",
              "      <td>5.238704e-01</td>\n",
              "    </tr>\n",
              "    <tr>\n",
              "      <th>11</th>\n",
              "      <td>0.059994</td>\n",
              "      <td>0.002357</td>\n",
              "      <td>0.003266</td>\n",
              "      <td>0.000024</td>\n",
              "      <td>8</td>\n",
              "      <td>30</td>\n",
              "      <td>NaN</td>\n",
              "      <td>{'max_features': 8, 'n_estimators': 30}</td>\n",
              "      <td>-8.927657</td>\n",
              "      <td>-9.509121</td>\n",
              "      <td>-32.488739</td>\n",
              "      <td>-9.718207</td>\n",
              "      <td>-14.602376</td>\n",
              "      <td>-15.049220</td>\n",
              "      <td>8.954579</td>\n",
              "      <td>5</td>\n",
              "      <td>-1.752393e+00</td>\n",
              "      <td>-2.152910e+00</td>\n",
              "      <td>-1.489561e+00</td>\n",
              "      <td>-1.659242e+00</td>\n",
              "      <td>-1.979197e+00</td>\n",
              "      <td>-1.806661e+00</td>\n",
              "      <td>2.344726e-01</td>\n",
              "    </tr>\n",
              "    <tr>\n",
              "      <th>12</th>\n",
              "      <td>0.005421</td>\n",
              "      <td>0.000120</td>\n",
              "      <td>0.001409</td>\n",
              "      <td>0.000040</td>\n",
              "      <td>2</td>\n",
              "      <td>3</td>\n",
              "      <td>False</td>\n",
              "      <td>{'bootstrap': False, 'max_features': 2, 'n_est...</td>\n",
              "      <td>-15.373286</td>\n",
              "      <td>-15.951815</td>\n",
              "      <td>-52.799828</td>\n",
              "      <td>-17.478185</td>\n",
              "      <td>-21.407889</td>\n",
              "      <td>-24.602201</td>\n",
              "      <td>14.255269</td>\n",
              "      <td>18</td>\n",
              "      <td>-2.781919e-30</td>\n",
              "      <td>-2.859969e-30</td>\n",
              "      <td>-2.692720e-30</td>\n",
              "      <td>-2.386095e-30</td>\n",
              "      <td>-2.805456e-30</td>\n",
              "      <td>-2.705232e-30</td>\n",
              "      <td>1.684484e-31</td>\n",
              "    </tr>\n",
              "    <tr>\n",
              "      <th>13</th>\n",
              "      <td>0.013713</td>\n",
              "      <td>0.000217</td>\n",
              "      <td>0.002001</td>\n",
              "      <td>0.000051</td>\n",
              "      <td>2</td>\n",
              "      <td>10</td>\n",
              "      <td>False</td>\n",
              "      <td>{'bootstrap': False, 'max_features': 2, 'n_est...</td>\n",
              "      <td>-10.296094</td>\n",
              "      <td>-8.087096</td>\n",
              "      <td>-39.469641</td>\n",
              "      <td>-10.201263</td>\n",
              "      <td>-18.296767</td>\n",
              "      <td>-17.270172</td>\n",
              "      <td>11.634487</td>\n",
              "      <td>9</td>\n",
              "      <td>-1.077088e-29</td>\n",
              "      <td>-2.826855e-06</td>\n",
              "      <td>-4.946996e-06</td>\n",
              "      <td>-1.014369e-29</td>\n",
              "      <td>-3.661972e-05</td>\n",
              "      <td>-8.878714e-06</td>\n",
              "      <td>1.399507e-05</td>\n",
              "    </tr>\n",
              "    <tr>\n",
              "      <th>14</th>\n",
              "      <td>0.005642</td>\n",
              "      <td>0.000119</td>\n",
              "      <td>0.001353</td>\n",
              "      <td>0.000041</td>\n",
              "      <td>3</td>\n",
              "      <td>3</td>\n",
              "      <td>False</td>\n",
              "      <td>{'bootstrap': False, 'max_features': 3, 'n_est...</td>\n",
              "      <td>-12.649124</td>\n",
              "      <td>-12.099640</td>\n",
              "      <td>-40.582144</td>\n",
              "      <td>-19.093787</td>\n",
              "      <td>-15.732048</td>\n",
              "      <td>-20.031348</td>\n",
              "      <td>10.574568</td>\n",
              "      <td>14</td>\n",
              "      <td>-2.781919e-30</td>\n",
              "      <td>-2.859969e-30</td>\n",
              "      <td>-2.692720e-30</td>\n",
              "      <td>-2.386095e-30</td>\n",
              "      <td>-2.805456e-30</td>\n",
              "      <td>-2.705232e-30</td>\n",
              "      <td>1.684484e-31</td>\n",
              "    </tr>\n",
              "    <tr>\n",
              "      <th>15</th>\n",
              "      <td>0.015134</td>\n",
              "      <td>0.000274</td>\n",
              "      <td>0.002120</td>\n",
              "      <td>0.000101</td>\n",
              "      <td>3</td>\n",
              "      <td>10</td>\n",
              "      <td>False</td>\n",
              "      <td>{'bootstrap': False, 'max_features': 3, 'n_est...</td>\n",
              "      <td>-11.867858</td>\n",
              "      <td>-9.315552</td>\n",
              "      <td>-27.109131</td>\n",
              "      <td>-11.511114</td>\n",
              "      <td>-16.830227</td>\n",
              "      <td>-15.326776</td>\n",
              "      <td>6.383455</td>\n",
              "      <td>7</td>\n",
              "      <td>-1.077088e-29</td>\n",
              "      <td>-7.067138e-07</td>\n",
              "      <td>-6.360424e-06</td>\n",
              "      <td>-1.014369e-29</td>\n",
              "      <td>-5.723005e-04</td>\n",
              "      <td>-1.158735e-04</td>\n",
              "      <td>2.282259e-04</td>\n",
              "    </tr>\n",
              "    <tr>\n",
              "      <th>16</th>\n",
              "      <td>0.006174</td>\n",
              "      <td>0.000029</td>\n",
              "      <td>0.001381</td>\n",
              "      <td>0.000030</td>\n",
              "      <td>4</td>\n",
              "      <td>3</td>\n",
              "      <td>False</td>\n",
              "      <td>{'bootstrap': False, 'max_features': 4, 'n_est...</td>\n",
              "      <td>-13.354789</td>\n",
              "      <td>-13.629327</td>\n",
              "      <td>-41.648451</td>\n",
              "      <td>-17.637606</td>\n",
              "      <td>-27.421984</td>\n",
              "      <td>-22.738431</td>\n",
              "      <td>10.738449</td>\n",
              "      <td>16</td>\n",
              "      <td>-2.781919e-30</td>\n",
              "      <td>-2.859969e-30</td>\n",
              "      <td>-2.692720e-30</td>\n",
              "      <td>-2.386095e-30</td>\n",
              "      <td>-2.805456e-30</td>\n",
              "      <td>-2.705232e-30</td>\n",
              "      <td>1.684484e-31</td>\n",
              "    </tr>\n",
              "    <tr>\n",
              "      <th>17</th>\n",
              "      <td>0.016793</td>\n",
              "      <td>0.000189</td>\n",
              "      <td>0.002054</td>\n",
              "      <td>0.000051</td>\n",
              "      <td>4</td>\n",
              "      <td>10</td>\n",
              "      <td>False</td>\n",
              "      <td>{'bootstrap': False, 'max_features': 4, 'n_est...</td>\n",
              "      <td>-10.348741</td>\n",
              "      <td>-9.496804</td>\n",
              "      <td>-31.408601</td>\n",
              "      <td>-9.463346</td>\n",
              "      <td>-13.811830</td>\n",
              "      <td>-14.905865</td>\n",
              "      <td>8.404565</td>\n",
              "      <td>4</td>\n",
              "      <td>-1.077088e-29</td>\n",
              "      <td>-1.109423e-29</td>\n",
              "      <td>-1.017435e-29</td>\n",
              "      <td>-1.014369e-29</td>\n",
              "      <td>-1.116349e-29</td>\n",
              "      <td>-1.066933e-29</td>\n",
              "      <td>4.373427e-31</td>\n",
              "    </tr>\n",
              "  </tbody>\n",
              "</table>\n",
              "</div>"
            ],
            "text/plain": [
              "    mean_fit_time  std_fit_time  ...  mean_train_score  std_train_score\n",
              "0        0.006678      0.001200  ...     -6.026803e+00     1.265042e+00\n",
              "1        0.015398      0.000129  ...     -3.177967e+00     4.585119e-01\n",
              "2        0.042787      0.000803  ...     -2.386142e+00     2.391865e-01\n",
              "3        0.006278      0.000107  ...     -6.334673e+00     6.637929e-01\n",
              "4        0.019366      0.004332  ...     -2.746090e+00     4.915635e-01\n",
              "5        0.049032      0.002345  ...     -2.036419e+00     2.754889e-01\n",
              "6        0.006887      0.000155  ...     -5.958455e+00     1.154982e+00\n",
              "7        0.018446      0.000181  ...     -2.785161e+00     4.315343e-01\n",
              "8        0.053379      0.000604  ...     -1.906042e+00     2.279480e-01\n",
              "9        0.007663      0.000070  ...     -4.406439e+00     1.176130e+00\n",
              "10       0.021168      0.000280  ...     -2.473882e+00     5.238704e-01\n",
              "11       0.059994      0.002357  ...     -1.806661e+00     2.344726e-01\n",
              "12       0.005421      0.000120  ...     -2.705232e-30     1.684484e-31\n",
              "13       0.013713      0.000217  ...     -8.878714e-06     1.399507e-05\n",
              "14       0.005642      0.000119  ...     -2.705232e-30     1.684484e-31\n",
              "15       0.015134      0.000274  ...     -1.158735e-04     2.282259e-04\n",
              "16       0.006174      0.000029  ...     -2.705232e-30     1.684484e-31\n",
              "17       0.016793      0.000189  ...     -1.066933e-29     4.373427e-31\n",
              "\n",
              "[18 rows x 23 columns]"
            ]
          },
          "metadata": {
            "tags": []
          },
          "execution_count": 155
        }
      ]
    },
    {
      "cell_type": "markdown",
      "metadata": {
        "id": "Zx_IzaPCY8dc"
      },
      "source": [
        "Modelo final e teste"
      ]
    },
    {
      "cell_type": "code",
      "metadata": {
        "id": "1w95bT8zY9zA"
      },
      "source": [
        "final_model = grid_search.best_estimator_\r\n",
        "\r\n",
        "X_test = strat_test_set.drop(\"PRICE\", axis=1)\r\n",
        "y_test = strat_test_set[\"PRICE\"].copy()\r\n",
        "\r\n",
        "final_predictions = final_model.predict(X_test)\r\n",
        "\r\n",
        "final_mse = MSE(y_test, final_predictions)\r\n",
        "final_rmse = np.sqrt(final_mse)"
      ],
      "execution_count": 157,
      "outputs": []
    },
    {
      "cell_type": "code",
      "metadata": {
        "colab": {
          "base_uri": "https://localhost:8080/"
        },
        "id": "c2obMePDZcUp",
        "outputId": "d9caeb75-7b02-4306-a4ca-c9b6a4e8af81"
      },
      "source": [
        "final_rmse"
      ],
      "execution_count": 158,
      "outputs": [
        {
          "output_type": "execute_result",
          "data": {
            "text/plain": [
              "3.2385617430802047"
            ]
          },
          "metadata": {
            "tags": []
          },
          "execution_count": 158
        }
      ]
    }
  ]
}